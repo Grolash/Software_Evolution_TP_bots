{
 "cells": [
  {
   "cell_type": "code",
   "execution_count": 548,
   "id": "ef9cc5cb-3ce4-4e59-abd5-75785e4eb067",
   "metadata": {},
   "outputs": [],
   "source": [
    "import requests\n",
    "import joblib\n",
    "import datetime\n",
    "import warnings\n",
    "import matplotlib.pyplot as plt\n",
    "import seaborn as sns\n",
    "import pandas as pd\n",
    "import numpy as np\n",
    "\n",
    "from pandas import option_context\n",
    "from tqdm import tqdm\n",
    "from statsmodels.stats.inter_rater import aggregate_raters\n",
    "from sklearn.metrics import cohen_kappa_score\n",
    "from scipy.stats import mannwhitneyu,shapiro,ttest_ind\n",
    "\n",
    "import cliffsDelta as cd\n",
    "import GenerateActivities as gat\n",
    "import important_features as imf"
   ]
  },
  {
   "cell_type": "code",
   "execution_count": 549,
   "id": "67f34e37-48e6-4033-b30f-5ba256427f26",
   "metadata": {},
   "outputs": [],
   "source": [
    "QUERY_ROOT = \"https://api.github.com\"\n",
    "TOKEN = '' # write your GitHub API key here\n",
    "with open(\"token\") as f:\n",
    "    TOKEN = f.read().strip()\n",
    "HEADERS={'Authorization':'token '+TOKEN}"
   ]
  },
  {
   "cell_type": "markdown",
   "id": "8095c72b-abe2-46b8-9034-1d9c7d98d3ad",
   "metadata": {},
   "source": [
    "## Section 3"
   ]
  },
  {
   "cell_type": "markdown",
   "id": "01c6e0c3-b012-4f00-a033-ddf3b74747c7",
   "metadata": {},
   "source": [
    "### Question 1"
   ]
  },
  {
   "cell_type": "markdown",
   "id": "2a3cc77d-eedd-4b5a-a560-b17a5a2b4cc4",
   "metadata": {},
   "source": [
    "#### Write an automated Python script to identify all GitHub bot actors in the list of contributors, by querying the GitHub REST API users endpoint and extracting the required information to make this decision. \n",
    "\n",
    "#### More information: You can search for the \"type\" key in the obtianed JSON result, If it is \"Bot\", then it is a bot actor, if it is \"User\", then it is an account."
   ]
  },
  {
   "cell_type": "code",
   "execution_count": 550,
   "id": "2d0275f0-5c13-42ea-9025-5ea307d6398d",
   "metadata": {},
   "outputs": [
    {
     "name": "stdout",
     "output_type": "stream",
     "text": [
      "        contributor bothunter_type\n",
      "0            Cadair          Human\n",
      "1      HumphreyYang          Human\n",
      "2  JuliaRegistrator            Bot\n",
      "3           MridulS          Human\n",
      "4          SobhanMP          Human\n"
     ]
    }
   ],
   "source": [
    "# 1. Read the given <sample>.csv file into a pandas DataFrame (df).\n",
    "# 2. Make sure there are 2 columns, one column name is \"contributor\" that has the name of the contributor, \n",
    "#    and another column name is \"bothunter_type\" that you will use later on in this assignment.\n",
    "# 3. Display the DataFrame.\n",
    "df = pd.DataFrame()\n",
    "with open(\"Contributors/sample17.csv\") as f:\n",
    "    df = pd.read_csv(f)\n",
    "print(df.head())\n"
   ]
  },
  {
   "cell_type": "code",
   "execution_count": 551,
   "id": "f9312364-57d3-4f26-a216-82a22eea8349",
   "metadata": {},
   "outputs": [
    {
     "name": "stdout",
     "output_type": "stream",
     "text": [
      "['Cadair', 'HumphreyYang', 'JuliaRegistrator', 'MridulS', 'SobhanMP', 'Zentrik', 'andy-sweet', 'baszalmstra', 'bioc-issue-bot', 'bryevdv', 'chainer-ci', 'codecov[bot]', 'codspeed-hq[bot]', 'commit-0', 'coveralls', 'd-v-b', 'dependabot[bot]', 'ecodiv', 'editorialbot', 'galaxyproject-sentryintegration[bot]', 'gandhis1', 'github-merge-queue[bot]', 'hobu', 'imagesc-bot', 'jbusecke', 'joshmoore', 'kelvinou01', 'lpsinger', 'matthewfeickert', 'meeseeksmachine', 'mmore500', 'nhz2', 'pascoec', 'pre-commit-ci[bot]', 'rabernat', 'renovate[bot]', 'santikka', 'steffilazerte', 'travishathaway', 'yabellini']\n"
     ]
    }
   ],
   "source": [
    "# 1. Store the names of the contributors in a list\n",
    "# 2. print the list\n",
    "\n",
    "contributors = df['contributor'].tolist()\n",
    "print(contributors)"
   ]
  },
  {
   "cell_type": "code",
   "execution_count": 552,
   "id": "2cd6ab44-f113-466a-863c-862674798f4c",
   "metadata": {},
   "outputs": [
    {
     "name": "stdout",
     "output_type": "stream",
     "text": [
      "                             contributor  actor\n",
      "0                                 Cadair  False\n",
      "1                           HumphreyYang  False\n",
      "2                       JuliaRegistrator  False\n",
      "3                                MridulS  False\n",
      "4                               SobhanMP  False\n",
      "5                                Zentrik  False\n",
      "6                             andy-sweet  False\n",
      "7                            baszalmstra  False\n",
      "8                         bioc-issue-bot  False\n",
      "9                                bryevdv  False\n",
      "10                            chainer-ci  False\n",
      "11                          codecov[bot]   True\n",
      "12                      codspeed-hq[bot]   True\n",
      "13                              commit-0  False\n",
      "14                             coveralls  False\n",
      "15                                 d-v-b  False\n",
      "16                       dependabot[bot]   True\n",
      "17                                ecodiv  False\n",
      "18                          editorialbot  False\n",
      "19  galaxyproject-sentryintegration[bot]   True\n",
      "20                              gandhis1  False\n",
      "21               github-merge-queue[bot]   True\n",
      "22                                  hobu  False\n",
      "23                           imagesc-bot  False\n",
      "24                              jbusecke  False\n",
      "25                             joshmoore  False\n",
      "26                            kelvinou01  False\n",
      "27                              lpsinger  False\n",
      "28                       matthewfeickert  False\n",
      "29                       meeseeksmachine  False\n",
      "30                              mmore500  False\n",
      "31                                  nhz2  False\n",
      "32                               pascoec  False\n",
      "33                    pre-commit-ci[bot]   True\n",
      "34                              rabernat  False\n",
      "35                         renovate[bot]   True\n",
      "36                              santikka  False\n",
      "37                         steffilazerte  False\n",
      "38                        travishathaway  False\n",
      "39                             yabellini  False\n"
     ]
    }
   ],
   "source": [
    "# 1. Using a for loop, iterate over each contributor in the list and query the GitHub Users API.\n",
    "#    You can use \"query = f'{QUERY_ROOT}/users/{contributor}'\", where QUERY_ROOT is defined at the beginning of this notebook \n",
    "#    and 'contributor' is each individual contributor from the list\n",
    "# 2. Get the response using 'response = requests.get(query, headers=HEADERS)'.\n",
    "# 3. convert the response to JSON using 'json_response = response.json()'.\n",
    "# 4. Iterate over each JSON response and get the value of the 'type' key. If it is \"Bot\" then the contributor is a bot actor, \n",
    "#    if \"User\" then the contributor is an account. You should boolean values to indicate if the contributor is a bot actor (True) or User/Organisation (False)\n",
    "# 5. Save these results in list of dictionary of the form [{'contributor': <contributor name>, 'app': <boolean value>}, {...}, {...}, {...}].\n",
    "#    Lets call this list as \"app_dict\"\n",
    "# 6. Finally convert this list of dictionary to DataFrame by writing 'pd.DataFrame.from_dict(app_dict)'\n",
    "# 7. Display the DataFrame. This should have two columns - contributor and app\n",
    "app_dict = []\n",
    "for contributor in contributors:\n",
    "    query = f'{QUERY_ROOT}/users/{contributor}'\n",
    "    response = requests.get(query, headers=HEADERS)\n",
    "    json_response = response.json()\n",
    "    if json_response['type'] == 'Bot':\n",
    "        app_dict.append({'contributor': contributor, 'actor': True})\n",
    "    else:\n",
    "        app_dict.append({'contributor': contributor, 'actor': False})\n",
    "    app_df = pd.DataFrame.from_dict(app_dict)\n",
    "print(app_df)\n",
    "\n"
   ]
  },
  {
   "cell_type": "markdown",
   "id": "bf7a784f-8b41-488b-8034-7f66ed9b6d97",
   "metadata": {},
   "source": [
    "### Question 2\n",
    "\n",
    "#### Add a new 'actor' column in the CSV file to store this information. You can write True if it is a bot actor and False if it is not.\n",
    "\n",
    "#### Report on the total number of GitHub bot actors, and User accounts present in the list of accounts of your dataset."
   ]
  },
  {
   "cell_type": "code",
   "execution_count": 553,
   "id": "242398c5-d3ae-472f-99e8-ac86be7897c2",
   "metadata": {},
   "outputs": [
    {
     "name": "stdout",
     "output_type": "stream",
     "text": [
      "                             contributor bothunter_type  actor\n",
      "0                                 Cadair          Human  False\n",
      "1                           HumphreyYang          Human  False\n",
      "2                       JuliaRegistrator            Bot  False\n",
      "3                                MridulS          Human  False\n",
      "4                               SobhanMP          Human  False\n",
      "5                                Zentrik          Human  False\n",
      "6                             andy-sweet          Human  False\n",
      "7                            baszalmstra          Human  False\n",
      "8                         bioc-issue-bot            Bot  False\n",
      "9                                bryevdv          Human  False\n",
      "10                            chainer-ci            Bot  False\n",
      "11                          codecov[bot]            Bot   True\n",
      "12                      codspeed-hq[bot]            Bot   True\n",
      "13                              commit-0          Human  False\n",
      "14                             coveralls            Bot  False\n",
      "15                                 d-v-b          Human  False\n",
      "16                       dependabot[bot]            Bot   True\n",
      "17                                ecodiv          Human  False\n",
      "18                          editorialbot          Human  False\n",
      "19  galaxyproject-sentryintegration[bot]            Bot   True\n",
      "20                              gandhis1          Human  False\n",
      "21               github-merge-queue[bot]            Bot   True\n",
      "22                                  hobu          Human  False\n",
      "23                           imagesc-bot            Bot  False\n",
      "24                              jbusecke          Human  False\n",
      "25                             joshmoore          Human  False\n",
      "26                            kelvinou01          Human  False\n",
      "27                              lpsinger          Human  False\n",
      "28                       matthewfeickert          Human  False\n",
      "29                       meeseeksmachine            Bot  False\n",
      "30                              mmore500          Human  False\n",
      "31                                  nhz2          Human  False\n",
      "32                               pascoec          Human  False\n",
      "33                    pre-commit-ci[bot]            Bot   True\n",
      "34                              rabernat          Human  False\n",
      "35                         renovate[bot]            Bot   True\n",
      "36                              santikka          Human  False\n",
      "37                         steffilazerte          Human  False\n",
      "38                        travishathaway          Human  False\n",
      "39                             yabellini          Human  False\n"
     ]
    }
   ],
   "source": [
    "# Merge the app DataFrame to df by writing 'pd.merge(df, <app df>, on='contributor'). This is similar to SQL join on primary key 'contributor'.\n",
    "# The resultant df should have 3 columns - contributor, bothunter_type and user_type.\n",
    "\n",
    "df = pd.merge(df, app_df, on='contributor')\n",
    "print(df)"
   ]
  },
  {
   "cell_type": "markdown",
   "id": "db9ba7d8-7a6f-4485-8e7b-bc5a00646021",
   "metadata": {},
   "source": [
    "### Question 3\n",
    "\n",
    "#### For each bot actor, write their purpose, the task that they automate by looking at their GitHub profile, homepage, information on the GitHub Marketplace, or other documentation that you can find online.\n"
   ]
  },
  {
   "cell_type": "code",
   "execution_count": 554,
   "id": "3092d616-2426-417a-95be-7f54f1124eff",
   "metadata": {},
   "outputs": [
    {
     "data": {
      "text/plain": "\"\\n1. codecov[bot]\\n   - Purpose: Automates the process of uploading code coverage reports to Codecov, a platform that provides code coverage insights.\\n   - Automated Task: Uploads coverage reports from continuous integration (CI) workflows to Codecov, facilitating the analysis of code coverage metrics.\\n   - Github: https://github.com/codecov/codecov-action\\n\\n2. codspeed-hq[bot]\\n   - Purpose: Integrates performance benchmarking into development and CI workflows to detect regressions and optimize code performance.\\n   - Automated Task: Gathers performance data during CI processes to identify and address performance regressions.\\n   - Github: https://github.com/CodSpeedHQ\\n\\n3. dependabot[bot]\\n   - Purpose: Maintains up-to-date and secure dependencies within a codebase by automating dependency updates.\\n   - Automated Task: Monitors dependencies for new versions and security vulnerabilities, automatically generating pull requests to update them.\\n   - Github: https://github.com/dependabot\\n\\n4. galaxyproject-sentryintegration[bot]\\n   - Purpose: Enhances error monitoring by integrating test coverage data into Sentry's stack traces.\\n   - Automated Task: Provides insights into test coverage within Sentry, helping developers identify untested code that may cause errors.\\n   - Github: https://docs.sentry.io/product/codecov/\\n\\n5. github-merge-queue[bot]\\n   - Purpose: Manages and automates the merging of pull requests in a controlled and efficient manner.\\n   - Automated Task: Queues and merges pull requests based on predefined conditions, ensuring a smooth integration process.\\n   - Github: https://github.com/apps/merge-queue-bot\\n\\n6. pre-commit-ci[bot]\\n   - Purpose: Ensures code quality by automatically running pre-commit hooks on code changes.\\n   - Automated Task: Executes pre-commit hooks in CI environments, verifying code formatting, linting, and other checks before changes are merged.\\n   - Github: https://github.com/marketplace/pre-commit-ci\\n\\n7. renovate[bot]\\n   - Purpose: Automates dependency management by keeping dependencies up-to-date and secure.\\n   - Automated Task: Scans for outdated dependencies and opens pull requests to update them, similar to Dependabot.\\n    - Github: https://github.com/renovatebot/renovate\\n\""
     },
     "execution_count": 554,
     "metadata": {},
     "output_type": "execute_result"
    }
   ],
   "source": [
    "\"\"\"\n",
    "1. codecov[bot]\n",
    "   - Purpose: Automates the process of uploading code coverage reports to Codecov, a platform that provides code coverage insights.\n",
    "   - Automated Task: Uploads coverage reports from continuous integration (CI) workflows to Codecov, facilitating the analysis of code coverage metrics.\n",
    "   - Github: https://github.com/codecov/codecov-action\n",
    "\n",
    "2. codspeed-hq[bot]\n",
    "   - Purpose: Integrates performance benchmarking into development and CI workflows to detect regressions and optimize code performance.\n",
    "   - Automated Task: Gathers performance data during CI processes to identify and address performance regressions.\n",
    "   - Github: https://github.com/CodSpeedHQ\n",
    "\n",
    "3. dependabot[bot]\n",
    "   - Purpose: Maintains up-to-date and secure dependencies within a codebase by automating dependency updates.\n",
    "   - Automated Task: Monitors dependencies for new versions and security vulnerabilities, automatically generating pull requests to update them.\n",
    "   - Github: https://github.com/dependabot\n",
    "\n",
    "4. galaxyproject-sentryintegration[bot]\n",
    "   - Purpose: Enhances error monitoring by integrating test coverage data into Sentry's stack traces.\n",
    "   - Automated Task: Provides insights into test coverage within Sentry, helping developers identify untested code that may cause errors.\n",
    "   - Github: https://docs.sentry.io/product/codecov/\n",
    "\n",
    "5. github-merge-queue[bot]\n",
    "   - Purpose: Manages and automates the merging of pull requests in a controlled and efficient manner.\n",
    "   - Automated Task: Queues and merges pull requests based on predefined conditions, ensuring a smooth integration process.\n",
    "   - Github: https://github.com/apps/merge-queue-bot\n",
    "\n",
    "6. pre-commit-ci[bot]\n",
    "   - Purpose: Ensures code quality by automatically running pre-commit hooks on code changes.\n",
    "   - Automated Task: Executes pre-commit hooks in CI environments, verifying code formatting, linting, and other checks before changes are merged.\n",
    "   - Github: https://github.com/marketplace/pre-commit-ci\n",
    "\n",
    "7. renovate[bot]\n",
    "   - Purpose: Automates dependency management by keeping dependencies up-to-date and secure.\n",
    "   - Automated Task: Scans for outdated dependencies and opens pull requests to update them, similar to Dependabot.\n",
    "    - Github: https://github.com/renovatebot/renovate\n",
    "\"\"\""
   ]
  },
  {
   "cell_type": "markdown",
   "id": "406e178f-2b41-4758-b075-e2eea47f3991",
   "metadata": {},
   "source": [
    "## Section 4"
   ]
  },
  {
   "cell_type": "markdown",
   "id": "a05bb032-1b55-402e-8074-42f2210f3a16",
   "metadata": {},
   "source": [
    "### Question 1"
   ]
  },
  {
   "cell_type": "markdown",
   "id": "48285de2-8b3a-481a-bf93-b99295ba8a4a",
   "metadata": {},
   "source": [
    "#### Write an automated script to use BIMBAS (Bot Identification Model Based on Activity Sequences) to obtain a prediction of the GitHub contributor type (Bot or Human) for the contributors present in your dataset.\n",
    "\n",
    "#### Folow the steps given in each cell to use BIMBAS and obtain predictions."
   ]
  },
  {
   "cell_type": "markdown",
   "id": "3eeb9ed4-b5b9-4be5-aaac-02948a7188cc",
   "metadata": {},
   "source": [
    "### Read all the events and select the events performed by the contributors present in the given set"
   ]
  },
  {
   "cell_type": "code",
   "execution_count": 555,
   "id": "5cab8cc3-b9ca-4b88-bddb-dafe9f3cc09f",
   "metadata": {},
   "outputs": [
    {
     "data": {
      "text/plain": "        Unnamed: 0     event_id              event_type               login  \\\n3                3  39747379822       IssueCommentEvent        codecov[bot]   \n163            163  39747766396             CreateEvent     dependabot[bot]   \n164            164  39747766717        PullRequestEvent     dependabot[bot]   \n233            233  39747944271  PullRequestReviewEvent             bryevdv   \n321            321  39748383334       IssueCommentEvent        HumphreyYang   \n...            ...          ...                     ...                 ...   \n358385      358385  42415261485      CommitCommentEvent    JuliaRegistrator   \n358388      358388  42415267981               PushEvent  pre-commit-ci[bot]   \n358397      358397  42415358855       IssueCommentEvent    codspeed-hq[bot]   \n358398      358398  42415372311       IssueCommentEvent        codecov[bot]   \n358428      358428  42415647911               PushEvent  pre-commit-ci[bot]   \n\n                            repository          created_at   action  \\\n3                        napari/napari 2024-07-01 00:00:10  created   \n163         SciML/EasyModelAnalysis.jl 2024-07-01 00:34:53      NaN   \n164         SciML/EasyModelAnalysis.jl 2024-07-01 00:34:55   opened   \n233                        bokeh/bokeh 2024-07-01 00:49:02  created   \n321     QuantEcon/lecture-python-intro 2024-07-01 01:20:39  created   \n...                                ...                 ...      ...   \n358385             SciML/LineSearch.jl 2024-09-30 23:21:33      NaN   \n358388   spyder-ide/langchain-provider 2024-09-30 23:22:00      NaN   \n358397                     conda/conda 2024-09-30 23:27:57  created   \n358398              pybamm-team/PyBaMM 2024-09-30 23:28:49  created   \n358428          bokeh/bokeh_sampledata 2024-09-30 23:45:44      NaN   \n\n        PR_number   state           PR_node_id  ...      comment_node_id  \\\n3          7043.0    open  PR_kwDOCJ0aI85z_6lX  ...  IC_kwDOCJ0aI86DDzXh   \n163           NaN     NaN                  NaN  ...                  NaN   \n164         261.0    open  PR_kwDOI1YYHs50AC5Y  ...                  NaN   \n233       13956.0    open  PR_kwDOADqB3M5z_le_  ...                  NaN   \n321           NaN    open                  NaN  ...  IC_kwDOIy5DFs6DEAU4   \n...           ...     ...                  ...  ...                  ...   \n358385        NaN     NaN                  NaN  ...  CC_kwDOLCAB0M4IyT9_   \n358388        NaN     NaN                  NaN  ...                  NaN   \n358397    14285.0    open  PR_kwDOAF8kJs59LhsL  ...  IC_kwDOAF8kJs6OHzZU   \n358398     4477.0  closed  PR_kwDOCUVVSc59LeQ9  ...  IC_kwDOCUVVSc6OH0Z2   \n358428        NaN     NaN                  NaN  ...                  NaN   \n\n       merged                                                ref ref_type  \\\n3         NaN                                                NaN      NaN   \n163       NaN  dependabot/github_actions/actions/add-to-proje...   branch   \n164     False                                                NaN      NaN   \n233       NaN                                                NaN      NaN   \n321       NaN                                                NaN      NaN   \n...       ...                                                ...      ...   \n358385    NaN                                                NaN      NaN   \n358388    NaN                                                NaN      NaN   \n358397    NaN                                                NaN      NaN   \n358398    NaN                                                NaN      NaN   \n358428    NaN                                                NaN      NaN   \n\n        issue_number       issue_node_id issue_closed_at tag_name  \\\n3                NaN                 NaN             NaN      NaN   \n163              NaN                 NaN             NaN      NaN   \n164              NaN                 NaN             NaN      NaN   \n233              NaN                 NaN             NaN      NaN   \n321            470.0  I_kwDOIy5DFs6NhKkq             NaN      NaN   \n...              ...                 ...             ...      ...   \n358385           NaN                 NaN             NaN      NaN   \n358388           NaN                 NaN             NaN      NaN   \n358397           NaN                 NaN             NaN      NaN   \n358398           NaN                 NaN             NaN      NaN   \n358428           NaN                 NaN             NaN      NaN   \n\n       release_node_id          org  \n3                  NaN       napari  \n163                NaN        SciML  \n164                NaN        SciML  \n233                NaN        bokeh  \n321                NaN    QuantEcon  \n...                ...          ...  \n358385             NaN        SciML  \n358388             NaN   spyder-ide  \n358397             NaN        conda  \n358398             NaN  pybamm-team  \n358428             NaN        bokeh  \n\n[26483 rows x 25 columns]",
      "text/html": "<div>\n<style scoped>\n    .dataframe tbody tr th:only-of-type {\n        vertical-align: middle;\n    }\n\n    .dataframe tbody tr th {\n        vertical-align: top;\n    }\n\n    .dataframe thead th {\n        text-align: right;\n    }\n</style>\n<table border=\"1\" class=\"dataframe\">\n  <thead>\n    <tr style=\"text-align: right;\">\n      <th></th>\n      <th>Unnamed: 0</th>\n      <th>event_id</th>\n      <th>event_type</th>\n      <th>login</th>\n      <th>repository</th>\n      <th>created_at</th>\n      <th>action</th>\n      <th>PR_number</th>\n      <th>state</th>\n      <th>PR_node_id</th>\n      <th>...</th>\n      <th>comment_node_id</th>\n      <th>merged</th>\n      <th>ref</th>\n      <th>ref_type</th>\n      <th>issue_number</th>\n      <th>issue_node_id</th>\n      <th>issue_closed_at</th>\n      <th>tag_name</th>\n      <th>release_node_id</th>\n      <th>org</th>\n    </tr>\n  </thead>\n  <tbody>\n    <tr>\n      <th>3</th>\n      <td>3</td>\n      <td>39747379822</td>\n      <td>IssueCommentEvent</td>\n      <td>codecov[bot]</td>\n      <td>napari/napari</td>\n      <td>2024-07-01 00:00:10</td>\n      <td>created</td>\n      <td>7043.0</td>\n      <td>open</td>\n      <td>PR_kwDOCJ0aI85z_6lX</td>\n      <td>...</td>\n      <td>IC_kwDOCJ0aI86DDzXh</td>\n      <td>NaN</td>\n      <td>NaN</td>\n      <td>NaN</td>\n      <td>NaN</td>\n      <td>NaN</td>\n      <td>NaN</td>\n      <td>NaN</td>\n      <td>NaN</td>\n      <td>napari</td>\n    </tr>\n    <tr>\n      <th>163</th>\n      <td>163</td>\n      <td>39747766396</td>\n      <td>CreateEvent</td>\n      <td>dependabot[bot]</td>\n      <td>SciML/EasyModelAnalysis.jl</td>\n      <td>2024-07-01 00:34:53</td>\n      <td>NaN</td>\n      <td>NaN</td>\n      <td>NaN</td>\n      <td>NaN</td>\n      <td>...</td>\n      <td>NaN</td>\n      <td>NaN</td>\n      <td>dependabot/github_actions/actions/add-to-proje...</td>\n      <td>branch</td>\n      <td>NaN</td>\n      <td>NaN</td>\n      <td>NaN</td>\n      <td>NaN</td>\n      <td>NaN</td>\n      <td>SciML</td>\n    </tr>\n    <tr>\n      <th>164</th>\n      <td>164</td>\n      <td>39747766717</td>\n      <td>PullRequestEvent</td>\n      <td>dependabot[bot]</td>\n      <td>SciML/EasyModelAnalysis.jl</td>\n      <td>2024-07-01 00:34:55</td>\n      <td>opened</td>\n      <td>261.0</td>\n      <td>open</td>\n      <td>PR_kwDOI1YYHs50AC5Y</td>\n      <td>...</td>\n      <td>NaN</td>\n      <td>False</td>\n      <td>NaN</td>\n      <td>NaN</td>\n      <td>NaN</td>\n      <td>NaN</td>\n      <td>NaN</td>\n      <td>NaN</td>\n      <td>NaN</td>\n      <td>SciML</td>\n    </tr>\n    <tr>\n      <th>233</th>\n      <td>233</td>\n      <td>39747944271</td>\n      <td>PullRequestReviewEvent</td>\n      <td>bryevdv</td>\n      <td>bokeh/bokeh</td>\n      <td>2024-07-01 00:49:02</td>\n      <td>created</td>\n      <td>13956.0</td>\n      <td>open</td>\n      <td>PR_kwDOADqB3M5z_le_</td>\n      <td>...</td>\n      <td>NaN</td>\n      <td>NaN</td>\n      <td>NaN</td>\n      <td>NaN</td>\n      <td>NaN</td>\n      <td>NaN</td>\n      <td>NaN</td>\n      <td>NaN</td>\n      <td>NaN</td>\n      <td>bokeh</td>\n    </tr>\n    <tr>\n      <th>321</th>\n      <td>321</td>\n      <td>39748383334</td>\n      <td>IssueCommentEvent</td>\n      <td>HumphreyYang</td>\n      <td>QuantEcon/lecture-python-intro</td>\n      <td>2024-07-01 01:20:39</td>\n      <td>created</td>\n      <td>NaN</td>\n      <td>open</td>\n      <td>NaN</td>\n      <td>...</td>\n      <td>IC_kwDOIy5DFs6DEAU4</td>\n      <td>NaN</td>\n      <td>NaN</td>\n      <td>NaN</td>\n      <td>470.0</td>\n      <td>I_kwDOIy5DFs6NhKkq</td>\n      <td>NaN</td>\n      <td>NaN</td>\n      <td>NaN</td>\n      <td>QuantEcon</td>\n    </tr>\n    <tr>\n      <th>...</th>\n      <td>...</td>\n      <td>...</td>\n      <td>...</td>\n      <td>...</td>\n      <td>...</td>\n      <td>...</td>\n      <td>...</td>\n      <td>...</td>\n      <td>...</td>\n      <td>...</td>\n      <td>...</td>\n      <td>...</td>\n      <td>...</td>\n      <td>...</td>\n      <td>...</td>\n      <td>...</td>\n      <td>...</td>\n      <td>...</td>\n      <td>...</td>\n      <td>...</td>\n      <td>...</td>\n    </tr>\n    <tr>\n      <th>358385</th>\n      <td>358385</td>\n      <td>42415261485</td>\n      <td>CommitCommentEvent</td>\n      <td>JuliaRegistrator</td>\n      <td>SciML/LineSearch.jl</td>\n      <td>2024-09-30 23:21:33</td>\n      <td>NaN</td>\n      <td>NaN</td>\n      <td>NaN</td>\n      <td>NaN</td>\n      <td>...</td>\n      <td>CC_kwDOLCAB0M4IyT9_</td>\n      <td>NaN</td>\n      <td>NaN</td>\n      <td>NaN</td>\n      <td>NaN</td>\n      <td>NaN</td>\n      <td>NaN</td>\n      <td>NaN</td>\n      <td>NaN</td>\n      <td>SciML</td>\n    </tr>\n    <tr>\n      <th>358388</th>\n      <td>358388</td>\n      <td>42415267981</td>\n      <td>PushEvent</td>\n      <td>pre-commit-ci[bot]</td>\n      <td>spyder-ide/langchain-provider</td>\n      <td>2024-09-30 23:22:00</td>\n      <td>NaN</td>\n      <td>NaN</td>\n      <td>NaN</td>\n      <td>NaN</td>\n      <td>...</td>\n      <td>NaN</td>\n      <td>NaN</td>\n      <td>NaN</td>\n      <td>NaN</td>\n      <td>NaN</td>\n      <td>NaN</td>\n      <td>NaN</td>\n      <td>NaN</td>\n      <td>NaN</td>\n      <td>spyder-ide</td>\n    </tr>\n    <tr>\n      <th>358397</th>\n      <td>358397</td>\n      <td>42415358855</td>\n      <td>IssueCommentEvent</td>\n      <td>codspeed-hq[bot]</td>\n      <td>conda/conda</td>\n      <td>2024-09-30 23:27:57</td>\n      <td>created</td>\n      <td>14285.0</td>\n      <td>open</td>\n      <td>PR_kwDOAF8kJs59LhsL</td>\n      <td>...</td>\n      <td>IC_kwDOAF8kJs6OHzZU</td>\n      <td>NaN</td>\n      <td>NaN</td>\n      <td>NaN</td>\n      <td>NaN</td>\n      <td>NaN</td>\n      <td>NaN</td>\n      <td>NaN</td>\n      <td>NaN</td>\n      <td>conda</td>\n    </tr>\n    <tr>\n      <th>358398</th>\n      <td>358398</td>\n      <td>42415372311</td>\n      <td>IssueCommentEvent</td>\n      <td>codecov[bot]</td>\n      <td>pybamm-team/PyBaMM</td>\n      <td>2024-09-30 23:28:49</td>\n      <td>created</td>\n      <td>4477.0</td>\n      <td>closed</td>\n      <td>PR_kwDOCUVVSc59LeQ9</td>\n      <td>...</td>\n      <td>IC_kwDOCUVVSc6OH0Z2</td>\n      <td>NaN</td>\n      <td>NaN</td>\n      <td>NaN</td>\n      <td>NaN</td>\n      <td>NaN</td>\n      <td>NaN</td>\n      <td>NaN</td>\n      <td>NaN</td>\n      <td>pybamm-team</td>\n    </tr>\n    <tr>\n      <th>358428</th>\n      <td>358428</td>\n      <td>42415647911</td>\n      <td>PushEvent</td>\n      <td>pre-commit-ci[bot]</td>\n      <td>bokeh/bokeh_sampledata</td>\n      <td>2024-09-30 23:45:44</td>\n      <td>NaN</td>\n      <td>NaN</td>\n      <td>NaN</td>\n      <td>NaN</td>\n      <td>...</td>\n      <td>NaN</td>\n      <td>NaN</td>\n      <td>NaN</td>\n      <td>NaN</td>\n      <td>NaN</td>\n      <td>NaN</td>\n      <td>NaN</td>\n      <td>NaN</td>\n      <td>NaN</td>\n      <td>bokeh</td>\n    </tr>\n  </tbody>\n</table>\n<p>26483 rows × 25 columns</p>\n</div>"
     },
     "execution_count": 555,
     "metadata": {},
     "output_type": "execute_result"
    }
   ],
   "source": [
    "# 1. Read the csv file of events (all_events.csv) provided along with this notebook\n",
    "# 2. Convert created_at column to datetime format \n",
    "#    One possible way is to use lambda function: \"events.assign(created_at=lambda d: pd.to_datetime(d.created_at, unit='ms'))\"\n",
    "# 3. Get the contributors provided to you in a list or use the contributors list that you created in Section 3 Question 1. \n",
    "#    e.g., ['contributor1', 'contributor2', 'contributor3',...]\n",
    "# 4. Select the events performed by these contributors alone. Do not consider all the events. You should consider only the events\n",
    "#    performed by the contributors provided to you. Hint: you can use the df.query function\n",
    "# 5. Display the considered events.\n",
    "\n",
    "events = pd.read_csv(\"all_events.csv\")\n",
    "events = events.assign(created_at=lambda d: pd.to_datetime(d.created_at, unit='ms'))\n",
    "contributors_list = df['contributor'].tolist()\n",
    "selected_events = events.query('login in @contributors_list')\n",
    "selected_events\n"
   ]
  },
  {
   "cell_type": "markdown",
   "id": "270f221c-e9a6-463b-b76a-10c83f691fbd",
   "metadata": {},
   "source": [
    "### Execute BIMBAS to obtain the predictions"
   ]
  },
  {
   "cell_type": "code",
   "execution_count": 556,
   "id": "3f873efc-01b5-495e-8b99-87ce15962ce2",
   "metadata": {},
   "outputs": [],
   "source": [
    "# Do not modify this cell\n",
    "# Use the following function the code below to obtain your predictions\n",
    "\n",
    "def execute_bimbas(contributors_list, selected_events):\n",
    "    '''\n",
    "    args: contributors_list (list) - list of contributors in the dataset provided to you\n",
    "          selected_events (DataFrame) - DataFrame of events performed by the considered contributors\n",
    "    return: bimbas_prediction (DataFrame) - DataFrame of preditions along with the confidence in prediction for each contributor\n",
    "    '''\n",
    "    result=pd.DataFrame()\n",
    "    temp_list = []\n",
    "    bimbas = joblib.load('bimbas.joblib')\n",
    "    date_limit = pd.to_datetime(selected_events.created_at.max()) + pd.DateOffset(-90)\n",
    "    \n",
    "    for contributor in tqdm(contributors_list):\n",
    "        # c = contributors[contributor]\n",
    "        activities = gat.activity_identification(selected_events.query('login==@contributor and created_at>=@date_limit'))\n",
    "        activity_features = (\n",
    "                            imf.extract_features(activities)\n",
    "                            .set_index([[contributor]])\n",
    "                            )\n",
    "        # features = pd.concat([features,activity_features])\n",
    "        with warnings.catch_warnings():\n",
    "            warnings.simplefilter(\"ignore\", category=UserWarning)\n",
    "            probability = bimbas.predict_proba(activity_features)[0][1]\n",
    "        if(probability <= 0.5):\n",
    "            contributor_type = 'Human'\n",
    "        else:\n",
    "            contributor_type = 'Bot'\n",
    "        confidence = (abs(probability - 0.5)*2).round(3)\n",
    "    \n",
    "        pred = activity_features.set_index([[contributor]]).assign(\n",
    "            prediction=contributor_type,\n",
    "            confidence = confidence,\n",
    "            )\n",
    "        temp_list.extend([{'contributor':contributor,'bimbas_type':contributor_type,'confidence':confidence}])\n",
    "    \n",
    "    bimbas_prediction = pd.DataFrame.from_dict(temp_list)\n",
    "\n",
    "    return(bimbas_prediction)"
   ]
  },
  {
   "cell_type": "code",
   "execution_count": 557,
   "id": "abe1a50e-04a7-48b8-816d-5bf7f5df7738",
   "metadata": {},
   "outputs": [
    {
     "name": "stderr",
     "output_type": "stream",
     "text": [
      "100%|██████████| 40/40 [00:11<00:00,  3.34it/s]"
     ]
    },
    {
     "name": "stdout",
     "output_type": "stream",
     "text": [
      "                             contributor bimbas_type  confidence\n",
      "0                                 Cadair       Human       0.511\n",
      "1                           HumphreyYang       Human       0.820\n",
      "2                       JuliaRegistrator         Bot       0.886\n",
      "3                                MridulS       Human       0.951\n",
      "4                               SobhanMP       Human       0.889\n",
      "5                                Zentrik       Human       0.853\n",
      "6                             andy-sweet       Human       0.839\n",
      "7                            baszalmstra       Human       0.777\n",
      "8                         bioc-issue-bot         Bot       0.548\n",
      "9                                bryevdv       Human       0.864\n",
      "10                            chainer-ci         Bot       0.723\n",
      "11                          codecov[bot]         Bot       0.938\n",
      "12                      codspeed-hq[bot]         Bot       0.916\n",
      "13                              commit-0         Bot       0.857\n",
      "14                             coveralls         Bot       0.910\n",
      "15                                 d-v-b       Human       0.866\n",
      "16                       dependabot[bot]         Bot       0.834\n",
      "17                                ecodiv       Human       0.762\n",
      "18                          editorialbot         Bot       0.471\n",
      "19  galaxyproject-sentryintegration[bot]         Bot       0.526\n",
      "20                              gandhis1       Human       0.939\n",
      "21               github-merge-queue[bot]         Bot       0.794\n",
      "22                                  hobu       Human       0.823\n",
      "23                           imagesc-bot       Human       0.145\n",
      "24                              jbusecke       Human       0.944\n",
      "25                             joshmoore       Human       0.950\n",
      "26                            kelvinou01       Human       0.797\n",
      "27                              lpsinger       Human       0.894\n",
      "28                       matthewfeickert       Human       0.957\n",
      "29                       meeseeksmachine         Bot       0.791\n",
      "30                              mmore500         Bot       0.911\n",
      "31                                  nhz2       Human       0.737\n",
      "32                               pascoec       Human       0.787\n",
      "33                    pre-commit-ci[bot]         Bot       0.936\n",
      "34                              rabernat       Human       0.953\n",
      "35                         renovate[bot]         Bot       0.166\n",
      "36                              santikka       Human       0.873\n",
      "37                         steffilazerte       Human       0.905\n",
      "38                        travishathaway       Human       0.704\n",
      "39                             yabellini       Human       0.815\n"
     ]
    },
    {
     "name": "stderr",
     "output_type": "stream",
     "text": [
      "\n"
     ]
    }
   ],
   "source": [
    "# Write your code here to call execute_bimbas function. \n",
    "# Pass the contributors list and the filtered events DataFrame as argument to \"execute_bimbas\" function\n",
    "# Prediction returned by BIMBAS will have \"contributor\", \"bimbas_type\" and \"confidence\"\n",
    "# Note: Print the prediction provided by BIMBAS - else this cell will not be graded.\n",
    "\n",
    "bimbas_prediction = execute_bimbas(contributors_list, selected_events)\n",
    "print(bimbas_prediction)"
   ]
  },
  {
   "cell_type": "markdown",
   "id": "7840554c-ed7e-4bc0-a37a-842c6117441b",
   "metadata": {},
   "source": [
    "### Create a column in your predictions DataFrame to have predictions provided by BIMBAS. \n",
    "### Now your DataFrame should have the following columns - contributor, bothunter_type, app, bimbas_type, confidence "
   ]
  },
  {
   "cell_type": "markdown",
   "id": "62f8a42e-0c0f-499e-bc96-92c13b3debf0",
   "metadata": {},
   "source": [
    "### Merging bothunter and bimbas predictions"
   ]
  },
  {
   "cell_type": "code",
   "execution_count": 558,
   "id": "97f4dd46-d8a8-492b-91d1-5f68d0e88a89",
   "metadata": {},
   "outputs": [
    {
     "data": {
      "text/plain": "                             contributor bothunter_type  actor bimbas_type  \\\n0                                 Cadair          Human  False       Human   \n1                           HumphreyYang          Human  False       Human   \n2                       JuliaRegistrator            Bot  False         Bot   \n3                                MridulS          Human  False       Human   \n4                               SobhanMP          Human  False       Human   \n5                                Zentrik          Human  False       Human   \n6                             andy-sweet          Human  False       Human   \n7                            baszalmstra          Human  False       Human   \n8                         bioc-issue-bot            Bot  False         Bot   \n9                                bryevdv          Human  False       Human   \n10                            chainer-ci            Bot  False         Bot   \n11                          codecov[bot]            Bot   True         Bot   \n12                      codspeed-hq[bot]            Bot   True         Bot   \n13                              commit-0          Human  False         Bot   \n14                             coveralls            Bot  False         Bot   \n15                                 d-v-b          Human  False       Human   \n16                       dependabot[bot]            Bot   True         Bot   \n17                                ecodiv          Human  False       Human   \n18                          editorialbot          Human  False         Bot   \n19  galaxyproject-sentryintegration[bot]            Bot   True         Bot   \n20                              gandhis1          Human  False       Human   \n21               github-merge-queue[bot]            Bot   True         Bot   \n22                                  hobu          Human  False       Human   \n23                           imagesc-bot            Bot  False       Human   \n24                              jbusecke          Human  False       Human   \n25                             joshmoore          Human  False       Human   \n26                            kelvinou01          Human  False       Human   \n27                              lpsinger          Human  False       Human   \n28                       matthewfeickert          Human  False       Human   \n29                       meeseeksmachine            Bot  False         Bot   \n30                              mmore500          Human  False         Bot   \n31                                  nhz2          Human  False       Human   \n32                               pascoec          Human  False       Human   \n33                    pre-commit-ci[bot]            Bot   True         Bot   \n34                              rabernat          Human  False       Human   \n35                         renovate[bot]            Bot   True         Bot   \n36                              santikka          Human  False       Human   \n37                         steffilazerte          Human  False       Human   \n38                        travishathaway          Human  False       Human   \n39                             yabellini          Human  False       Human   \n\n    confidence  \n0        0.511  \n1        0.820  \n2        0.886  \n3        0.951  \n4        0.889  \n5        0.853  \n6        0.839  \n7        0.777  \n8        0.548  \n9        0.864  \n10       0.723  \n11       0.938  \n12       0.916  \n13       0.857  \n14       0.910  \n15       0.866  \n16       0.834  \n17       0.762  \n18       0.471  \n19       0.526  \n20       0.939  \n21       0.794  \n22       0.823  \n23       0.145  \n24       0.944  \n25       0.950  \n26       0.797  \n27       0.894  \n28       0.957  \n29       0.791  \n30       0.911  \n31       0.737  \n32       0.787  \n33       0.936  \n34       0.953  \n35       0.166  \n36       0.873  \n37       0.905  \n38       0.704  \n39       0.815  ",
      "text/html": "<div>\n<style scoped>\n    .dataframe tbody tr th:only-of-type {\n        vertical-align: middle;\n    }\n\n    .dataframe tbody tr th {\n        vertical-align: top;\n    }\n\n    .dataframe thead th {\n        text-align: right;\n    }\n</style>\n<table border=\"1\" class=\"dataframe\">\n  <thead>\n    <tr style=\"text-align: right;\">\n      <th></th>\n      <th>contributor</th>\n      <th>bothunter_type</th>\n      <th>actor</th>\n      <th>bimbas_type</th>\n      <th>confidence</th>\n    </tr>\n  </thead>\n  <tbody>\n    <tr>\n      <th>0</th>\n      <td>Cadair</td>\n      <td>Human</td>\n      <td>False</td>\n      <td>Human</td>\n      <td>0.511</td>\n    </tr>\n    <tr>\n      <th>1</th>\n      <td>HumphreyYang</td>\n      <td>Human</td>\n      <td>False</td>\n      <td>Human</td>\n      <td>0.820</td>\n    </tr>\n    <tr>\n      <th>2</th>\n      <td>JuliaRegistrator</td>\n      <td>Bot</td>\n      <td>False</td>\n      <td>Bot</td>\n      <td>0.886</td>\n    </tr>\n    <tr>\n      <th>3</th>\n      <td>MridulS</td>\n      <td>Human</td>\n      <td>False</td>\n      <td>Human</td>\n      <td>0.951</td>\n    </tr>\n    <tr>\n      <th>4</th>\n      <td>SobhanMP</td>\n      <td>Human</td>\n      <td>False</td>\n      <td>Human</td>\n      <td>0.889</td>\n    </tr>\n    <tr>\n      <th>5</th>\n      <td>Zentrik</td>\n      <td>Human</td>\n      <td>False</td>\n      <td>Human</td>\n      <td>0.853</td>\n    </tr>\n    <tr>\n      <th>6</th>\n      <td>andy-sweet</td>\n      <td>Human</td>\n      <td>False</td>\n      <td>Human</td>\n      <td>0.839</td>\n    </tr>\n    <tr>\n      <th>7</th>\n      <td>baszalmstra</td>\n      <td>Human</td>\n      <td>False</td>\n      <td>Human</td>\n      <td>0.777</td>\n    </tr>\n    <tr>\n      <th>8</th>\n      <td>bioc-issue-bot</td>\n      <td>Bot</td>\n      <td>False</td>\n      <td>Bot</td>\n      <td>0.548</td>\n    </tr>\n    <tr>\n      <th>9</th>\n      <td>bryevdv</td>\n      <td>Human</td>\n      <td>False</td>\n      <td>Human</td>\n      <td>0.864</td>\n    </tr>\n    <tr>\n      <th>10</th>\n      <td>chainer-ci</td>\n      <td>Bot</td>\n      <td>False</td>\n      <td>Bot</td>\n      <td>0.723</td>\n    </tr>\n    <tr>\n      <th>11</th>\n      <td>codecov[bot]</td>\n      <td>Bot</td>\n      <td>True</td>\n      <td>Bot</td>\n      <td>0.938</td>\n    </tr>\n    <tr>\n      <th>12</th>\n      <td>codspeed-hq[bot]</td>\n      <td>Bot</td>\n      <td>True</td>\n      <td>Bot</td>\n      <td>0.916</td>\n    </tr>\n    <tr>\n      <th>13</th>\n      <td>commit-0</td>\n      <td>Human</td>\n      <td>False</td>\n      <td>Bot</td>\n      <td>0.857</td>\n    </tr>\n    <tr>\n      <th>14</th>\n      <td>coveralls</td>\n      <td>Bot</td>\n      <td>False</td>\n      <td>Bot</td>\n      <td>0.910</td>\n    </tr>\n    <tr>\n      <th>15</th>\n      <td>d-v-b</td>\n      <td>Human</td>\n      <td>False</td>\n      <td>Human</td>\n      <td>0.866</td>\n    </tr>\n    <tr>\n      <th>16</th>\n      <td>dependabot[bot]</td>\n      <td>Bot</td>\n      <td>True</td>\n      <td>Bot</td>\n      <td>0.834</td>\n    </tr>\n    <tr>\n      <th>17</th>\n      <td>ecodiv</td>\n      <td>Human</td>\n      <td>False</td>\n      <td>Human</td>\n      <td>0.762</td>\n    </tr>\n    <tr>\n      <th>18</th>\n      <td>editorialbot</td>\n      <td>Human</td>\n      <td>False</td>\n      <td>Bot</td>\n      <td>0.471</td>\n    </tr>\n    <tr>\n      <th>19</th>\n      <td>galaxyproject-sentryintegration[bot]</td>\n      <td>Bot</td>\n      <td>True</td>\n      <td>Bot</td>\n      <td>0.526</td>\n    </tr>\n    <tr>\n      <th>20</th>\n      <td>gandhis1</td>\n      <td>Human</td>\n      <td>False</td>\n      <td>Human</td>\n      <td>0.939</td>\n    </tr>\n    <tr>\n      <th>21</th>\n      <td>github-merge-queue[bot]</td>\n      <td>Bot</td>\n      <td>True</td>\n      <td>Bot</td>\n      <td>0.794</td>\n    </tr>\n    <tr>\n      <th>22</th>\n      <td>hobu</td>\n      <td>Human</td>\n      <td>False</td>\n      <td>Human</td>\n      <td>0.823</td>\n    </tr>\n    <tr>\n      <th>23</th>\n      <td>imagesc-bot</td>\n      <td>Bot</td>\n      <td>False</td>\n      <td>Human</td>\n      <td>0.145</td>\n    </tr>\n    <tr>\n      <th>24</th>\n      <td>jbusecke</td>\n      <td>Human</td>\n      <td>False</td>\n      <td>Human</td>\n      <td>0.944</td>\n    </tr>\n    <tr>\n      <th>25</th>\n      <td>joshmoore</td>\n      <td>Human</td>\n      <td>False</td>\n      <td>Human</td>\n      <td>0.950</td>\n    </tr>\n    <tr>\n      <th>26</th>\n      <td>kelvinou01</td>\n      <td>Human</td>\n      <td>False</td>\n      <td>Human</td>\n      <td>0.797</td>\n    </tr>\n    <tr>\n      <th>27</th>\n      <td>lpsinger</td>\n      <td>Human</td>\n      <td>False</td>\n      <td>Human</td>\n      <td>0.894</td>\n    </tr>\n    <tr>\n      <th>28</th>\n      <td>matthewfeickert</td>\n      <td>Human</td>\n      <td>False</td>\n      <td>Human</td>\n      <td>0.957</td>\n    </tr>\n    <tr>\n      <th>29</th>\n      <td>meeseeksmachine</td>\n      <td>Bot</td>\n      <td>False</td>\n      <td>Bot</td>\n      <td>0.791</td>\n    </tr>\n    <tr>\n      <th>30</th>\n      <td>mmore500</td>\n      <td>Human</td>\n      <td>False</td>\n      <td>Bot</td>\n      <td>0.911</td>\n    </tr>\n    <tr>\n      <th>31</th>\n      <td>nhz2</td>\n      <td>Human</td>\n      <td>False</td>\n      <td>Human</td>\n      <td>0.737</td>\n    </tr>\n    <tr>\n      <th>32</th>\n      <td>pascoec</td>\n      <td>Human</td>\n      <td>False</td>\n      <td>Human</td>\n      <td>0.787</td>\n    </tr>\n    <tr>\n      <th>33</th>\n      <td>pre-commit-ci[bot]</td>\n      <td>Bot</td>\n      <td>True</td>\n      <td>Bot</td>\n      <td>0.936</td>\n    </tr>\n    <tr>\n      <th>34</th>\n      <td>rabernat</td>\n      <td>Human</td>\n      <td>False</td>\n      <td>Human</td>\n      <td>0.953</td>\n    </tr>\n    <tr>\n      <th>35</th>\n      <td>renovate[bot]</td>\n      <td>Bot</td>\n      <td>True</td>\n      <td>Bot</td>\n      <td>0.166</td>\n    </tr>\n    <tr>\n      <th>36</th>\n      <td>santikka</td>\n      <td>Human</td>\n      <td>False</td>\n      <td>Human</td>\n      <td>0.873</td>\n    </tr>\n    <tr>\n      <th>37</th>\n      <td>steffilazerte</td>\n      <td>Human</td>\n      <td>False</td>\n      <td>Human</td>\n      <td>0.905</td>\n    </tr>\n    <tr>\n      <th>38</th>\n      <td>travishathaway</td>\n      <td>Human</td>\n      <td>False</td>\n      <td>Human</td>\n      <td>0.704</td>\n    </tr>\n    <tr>\n      <th>39</th>\n      <td>yabellini</td>\n      <td>Human</td>\n      <td>False</td>\n      <td>Human</td>\n      <td>0.815</td>\n    </tr>\n  </tbody>\n</table>\n</div>"
     },
     "execution_count": 558,
     "metadata": {},
     "output_type": "execute_result"
    }
   ],
   "source": [
    "# Merge the predictions provided by BIMBAS to the resultant dataset of Section 3. This final DataFrame should have the following columns - \n",
    "# contributor, bothunter_type, user_type, bimbas_type, and confidence.\n",
    "\n",
    "df = pd.merge(df, bimbas_prediction, on='contributor')\n",
    "df"
   ]
  },
  {
   "cell_type": "markdown",
   "id": "3ad85279-0ee8-49de-8c5a-bf0850494772",
   "metadata": {},
   "source": [
    "### Question 2\n",
    "#### Using Cohen's Kappa compute and report the interrater agreement score between the labels computed by both the bot identification approaches. Mention your interpretation of Cohen's Kappa"
   ]
  },
  {
   "cell_type": "code",
   "execution_count": 559,
   "id": "1040a69f-25cb-467a-9afd-6f32f6ae2a6e",
   "metadata": {},
   "outputs": [
    {
     "name": "stdout",
     "output_type": "stream",
     "text": [
      "Cohen's Kappa: 0.7808219178082192\n"
     ]
    }
   ],
   "source": [
    "# Hint: use the cohen_kappa_score library\n",
    "\n",
    "cohen_kappa = cohen_kappa_score(df['bothunter_type'], df['bimbas_type'])\n",
    "print(f\"Cohen's Kappa: {cohen_kappa}\")\n",
    "\n",
    "# Interpretation of Cohen's Kappa:\n",
    "# The value returned by the cohen_kappa_score is 0.78\n",
    "# A Cohen's Kappa value between 0.61 and 0.80 indicates substantial agreement between the two bot identification approaches.\n",
    "# Source: https://pmc.ncbi.nlm.nih.gov/articles/PMC3900052/"
   ]
  },
  {
   "cell_type": "markdown",
   "id": "a6f38f75-30ec-463f-bc98-89de44a14db4",
   "metadata": {},
   "source": [
    "### Question 3\n",
    "#### Determine the final type of each contributor. Whenever user_type column has the value \"User\" check if both bimbas_type and bothunter_type give the same prediction, then consider it as your final prediction in \"acc_type\" column.\n",
    "#### For the contributors that have different predictions, i.e. bimbas_type is not same as bothunter_type, then make a manual verification and consider that as the type for that contributor. Add an extra column to the DataFrame ﬁle called 'manual' that has the label determined by you. \n",
    "#### For manual verification you can make use the GitHub UI and the GitHub API https://api.github.com/users/username\n",
    "\n",
    "#### Whenever user_type column has the value \"Bot\", directly write your final acc_type as \"Bot Actor\"\n",
    "\n",
    "#### More information:\n",
    "For each contributor, you can look at their activities in GitHub UI, look at their latest events using GitHub Events API - https://api.github.com/users/<contributor>/events, to make a decision on their type.\n",
    "\n",
    "In addition, you can also write a very small reason why do you think they are bot or human (e.g., same activity at regular interval so Bot, files committed and code modified looks like Human, comments look like Human, comment look like Bot, test report looks automated so Bot, and so on....). This will be useful to answer your next question."
   ]
  },
  {
   "cell_type": "code",
   "execution_count": 560,
   "id": "884a7612-7ff7-40a4-805f-113c6f70786b",
   "metadata": {},
   "outputs": [
    {
     "name": "stdout",
     "output_type": "stream",
     "text": [
      "Manual Verification for commit-0:\n",
      "Bothunter Prediction: Human\n",
      "BIMBAS Prediction: Bot\n",
      "Manual Decision: Bot\n",
      "Reason: Github mentions Commit0 is a from scratch AI coding challenge at https://commit-0.github.io/. \n",
      "\n",
      "Manual Verification for mmore500:\n",
      "Bothunter Prediction: Human\n",
      "BIMBAS Prediction: Bot\n",
      "Manual Decision: Human\n",
      "Reason: The contributor is Matthew Andres Moreno, Postdoctoral Scholar at University of Michigan (https://orcid.org/0000-0003-4726-4479) \n",
      "\n",
      "[{'contributor': 'Cadair', 'manual': 'Human'}, {'contributor': 'HumphreyYang', 'manual': 'Human'}, {'contributor': 'JuliaRegistrator', 'manual': 'Bot'}, {'contributor': 'MridulS', 'manual': 'Human'}, {'contributor': 'SobhanMP', 'manual': 'Human'}, {'contributor': 'Zentrik', 'manual': 'Human'}, {'contributor': 'andy-sweet', 'manual': 'Human'}, {'contributor': 'baszalmstra', 'manual': 'Human'}, {'contributor': 'bioc-issue-bot', 'manual': 'Bot'}, {'contributor': 'bryevdv', 'manual': 'Human'}, {'contributor': 'chainer-ci', 'manual': 'Bot'}, {'contributor': 'codecov[bot]', 'manual': 'Bot'}, {'contributor': 'codspeed-hq[bot]', 'manual': 'Bot'}, {'contributor': 'commit-0', 'manual': 'Bot'}, {'contributor': 'coveralls', 'manual': 'Bot'}, {'contributor': 'd-v-b', 'manual': 'Human'}, {'contributor': 'dependabot[bot]', 'manual': 'Bot'}, {'contributor': 'ecodiv', 'manual': 'Human'}, {'contributor': 'editorialbot', 'manual': 'Bot'}, {'contributor': 'galaxyproject-sentryintegration[bot]', 'manual': 'Bot'}, {'contributor': 'gandhis1', 'manual': 'Human'}, {'contributor': 'github-merge-queue[bot]', 'manual': 'Bot'}, {'contributor': 'hobu', 'manual': 'Human'}, {'contributor': 'imagesc-bot', 'manual': 'Bot'}, {'contributor': 'jbusecke', 'manual': 'Human'}, {'contributor': 'joshmoore', 'manual': 'Human'}, {'contributor': 'kelvinou01', 'manual': 'Human'}, {'contributor': 'lpsinger', 'manual': 'Human'}, {'contributor': 'matthewfeickert', 'manual': 'Human'}, {'contributor': 'meeseeksmachine', 'manual': 'Bot'}, {'contributor': 'mmore500', 'manual': 'Human'}, {'contributor': 'nhz2', 'manual': 'Human'}, {'contributor': 'pascoec', 'manual': 'Human'}, {'contributor': 'pre-commit-ci[bot]', 'manual': 'Bot'}, {'contributor': 'rabernat', 'manual': 'Human'}, {'contributor': 'renovate[bot]', 'manual': 'Bot'}, {'contributor': 'santikka', 'manual': 'Human'}, {'contributor': 'steffilazerte', 'manual': 'Human'}, {'contributor': 'travishathaway', 'manual': 'Human'}, {'contributor': 'yabellini', 'manual': 'Human'}]\n"
     ]
    }
   ],
   "source": [
    "# Write the code for your manual decision here\n",
    "# example : \n",
    "# manual_list_dict = [{'contributor': '<contributor name>', 'manual': '<your prediction>'}, {....}, {....}, {....}]\n",
    "# pd.DataFrame.from_dict(manual_list_dict)\n",
    "\n",
    "manual_list_dict = []\n",
    "for index, row in df.iterrows():\n",
    "    if row['bothunter_type'] == row['bimbas_type'] == 'Bot': # If both approaches predict the contributor as a Bot\n",
    "        manual_list_dict.append({'contributor': row['contributor'], 'manual': 'Bot'})\n",
    "    elif row['bothunter_type'] == row['bimbas_type'] == 'Human': # If both approaches predict the contributor as a Human\n",
    "        manual_list_dict.append({'contributor': row['contributor'], 'manual': 'Human'})\n",
    "    elif 'bot' in row['contributor'].lower(): # If the contributor name contains 'bot', consider them as Bot\n",
    "        manual_list_dict.append({'contributor': row['contributor'], 'manual': 'Bot'})\n",
    "    else:\n",
    "        print(f\"Manual Verification for {row['contributor']}:\")\n",
    "        print(f\"Bothunter Prediction: {row['bothunter_type']}\")\n",
    "        print(f\"BIMBAS Prediction: {row['bimbas_type']}\")\n",
    "        if row['contributor'] == \"commit-0\":\n",
    "            manual_list_dict.append({'contributor': row['contributor'], 'manual': 'Bot'})\n",
    "            print(\"Manual Decision: Bot\")\n",
    "            print(\"Reason: Github mentions Commit0 is a from scratch AI coding challenge at https://commit-0.github.io/. \\n\")\n",
    "        elif row['contributor'] == \"mmore500\":\n",
    "            manual_list_dict.append({'contributor': row['contributor'], 'manual': 'Human'})\n",
    "            print(\"Manual Decision: Human\")\n",
    "            print(\"Reason: The contributor is Matthew Andres Moreno, Postdoctoral Scholar at University of Michigan (https://orcid.org/0000-0003-4726-4479) \\n\")\n",
    "\n",
    "print(manual_list_dict)\n"
   ]
  },
  {
   "cell_type": "code",
   "execution_count": 561,
   "id": "93c4ce14-c393-45ba-aba0-bf1ae23d1cca",
   "metadata": {},
   "outputs": [
    {
     "data": {
      "text/plain": "                             contributor bothunter_type  actor bimbas_type  \\\n0                                 Cadair          Human  False       Human   \n1                           HumphreyYang          Human  False       Human   \n2                       JuliaRegistrator            Bot  False         Bot   \n3                                MridulS          Human  False       Human   \n4                               SobhanMP          Human  False       Human   \n5                                Zentrik          Human  False       Human   \n6                             andy-sweet          Human  False       Human   \n7                            baszalmstra          Human  False       Human   \n8                         bioc-issue-bot            Bot  False         Bot   \n9                                bryevdv          Human  False       Human   \n10                            chainer-ci            Bot  False         Bot   \n11                          codecov[bot]            Bot   True         Bot   \n12                      codspeed-hq[bot]            Bot   True         Bot   \n13                              commit-0          Human  False         Bot   \n14                             coveralls            Bot  False         Bot   \n15                                 d-v-b          Human  False       Human   \n16                       dependabot[bot]            Bot   True         Bot   \n17                                ecodiv          Human  False       Human   \n18                          editorialbot          Human  False         Bot   \n19  galaxyproject-sentryintegration[bot]            Bot   True         Bot   \n20                              gandhis1          Human  False       Human   \n21               github-merge-queue[bot]            Bot   True         Bot   \n22                                  hobu          Human  False       Human   \n23                           imagesc-bot            Bot  False       Human   \n24                              jbusecke          Human  False       Human   \n25                             joshmoore          Human  False       Human   \n26                            kelvinou01          Human  False       Human   \n27                              lpsinger          Human  False       Human   \n28                       matthewfeickert          Human  False       Human   \n29                       meeseeksmachine            Bot  False         Bot   \n30                              mmore500          Human  False         Bot   \n31                                  nhz2          Human  False       Human   \n32                               pascoec          Human  False       Human   \n33                    pre-commit-ci[bot]            Bot   True         Bot   \n34                              rabernat          Human  False       Human   \n35                         renovate[bot]            Bot   True         Bot   \n36                              santikka          Human  False       Human   \n37                         steffilazerte          Human  False       Human   \n38                        travishathaway          Human  False       Human   \n39                             yabellini          Human  False       Human   \n\n    confidence manual acc_type  \n0        0.511  Human    Human  \n1        0.820  Human    Human  \n2        0.886    Bot      Bot  \n3        0.951  Human    Human  \n4        0.889  Human    Human  \n5        0.853  Human    Human  \n6        0.839  Human    Human  \n7        0.777  Human    Human  \n8        0.548    Bot      Bot  \n9        0.864  Human    Human  \n10       0.723    Bot      Bot  \n11       0.938    Bot      Bot  \n12       0.916    Bot      Bot  \n13       0.857    Bot      Bot  \n14       0.910    Bot      Bot  \n15       0.866  Human    Human  \n16       0.834    Bot      Bot  \n17       0.762  Human    Human  \n18       0.471    Bot      Bot  \n19       0.526    Bot      Bot  \n20       0.939  Human    Human  \n21       0.794    Bot      Bot  \n22       0.823  Human    Human  \n23       0.145    Bot      Bot  \n24       0.944  Human    Human  \n25       0.950  Human    Human  \n26       0.797  Human    Human  \n27       0.894  Human    Human  \n28       0.957  Human    Human  \n29       0.791    Bot      Bot  \n30       0.911  Human    Human  \n31       0.737  Human    Human  \n32       0.787  Human    Human  \n33       0.936    Bot      Bot  \n34       0.953  Human    Human  \n35       0.166    Bot      Bot  \n36       0.873  Human    Human  \n37       0.905  Human    Human  \n38       0.704  Human    Human  \n39       0.815  Human    Human  ",
      "text/html": "<div>\n<style scoped>\n    .dataframe tbody tr th:only-of-type {\n        vertical-align: middle;\n    }\n\n    .dataframe tbody tr th {\n        vertical-align: top;\n    }\n\n    .dataframe thead th {\n        text-align: right;\n    }\n</style>\n<table border=\"1\" class=\"dataframe\">\n  <thead>\n    <tr style=\"text-align: right;\">\n      <th></th>\n      <th>contributor</th>\n      <th>bothunter_type</th>\n      <th>actor</th>\n      <th>bimbas_type</th>\n      <th>confidence</th>\n      <th>manual</th>\n      <th>acc_type</th>\n    </tr>\n  </thead>\n  <tbody>\n    <tr>\n      <th>0</th>\n      <td>Cadair</td>\n      <td>Human</td>\n      <td>False</td>\n      <td>Human</td>\n      <td>0.511</td>\n      <td>Human</td>\n      <td>Human</td>\n    </tr>\n    <tr>\n      <th>1</th>\n      <td>HumphreyYang</td>\n      <td>Human</td>\n      <td>False</td>\n      <td>Human</td>\n      <td>0.820</td>\n      <td>Human</td>\n      <td>Human</td>\n    </tr>\n    <tr>\n      <th>2</th>\n      <td>JuliaRegistrator</td>\n      <td>Bot</td>\n      <td>False</td>\n      <td>Bot</td>\n      <td>0.886</td>\n      <td>Bot</td>\n      <td>Bot</td>\n    </tr>\n    <tr>\n      <th>3</th>\n      <td>MridulS</td>\n      <td>Human</td>\n      <td>False</td>\n      <td>Human</td>\n      <td>0.951</td>\n      <td>Human</td>\n      <td>Human</td>\n    </tr>\n    <tr>\n      <th>4</th>\n      <td>SobhanMP</td>\n      <td>Human</td>\n      <td>False</td>\n      <td>Human</td>\n      <td>0.889</td>\n      <td>Human</td>\n      <td>Human</td>\n    </tr>\n    <tr>\n      <th>5</th>\n      <td>Zentrik</td>\n      <td>Human</td>\n      <td>False</td>\n      <td>Human</td>\n      <td>0.853</td>\n      <td>Human</td>\n      <td>Human</td>\n    </tr>\n    <tr>\n      <th>6</th>\n      <td>andy-sweet</td>\n      <td>Human</td>\n      <td>False</td>\n      <td>Human</td>\n      <td>0.839</td>\n      <td>Human</td>\n      <td>Human</td>\n    </tr>\n    <tr>\n      <th>7</th>\n      <td>baszalmstra</td>\n      <td>Human</td>\n      <td>False</td>\n      <td>Human</td>\n      <td>0.777</td>\n      <td>Human</td>\n      <td>Human</td>\n    </tr>\n    <tr>\n      <th>8</th>\n      <td>bioc-issue-bot</td>\n      <td>Bot</td>\n      <td>False</td>\n      <td>Bot</td>\n      <td>0.548</td>\n      <td>Bot</td>\n      <td>Bot</td>\n    </tr>\n    <tr>\n      <th>9</th>\n      <td>bryevdv</td>\n      <td>Human</td>\n      <td>False</td>\n      <td>Human</td>\n      <td>0.864</td>\n      <td>Human</td>\n      <td>Human</td>\n    </tr>\n    <tr>\n      <th>10</th>\n      <td>chainer-ci</td>\n      <td>Bot</td>\n      <td>False</td>\n      <td>Bot</td>\n      <td>0.723</td>\n      <td>Bot</td>\n      <td>Bot</td>\n    </tr>\n    <tr>\n      <th>11</th>\n      <td>codecov[bot]</td>\n      <td>Bot</td>\n      <td>True</td>\n      <td>Bot</td>\n      <td>0.938</td>\n      <td>Bot</td>\n      <td>Bot</td>\n    </tr>\n    <tr>\n      <th>12</th>\n      <td>codspeed-hq[bot]</td>\n      <td>Bot</td>\n      <td>True</td>\n      <td>Bot</td>\n      <td>0.916</td>\n      <td>Bot</td>\n      <td>Bot</td>\n    </tr>\n    <tr>\n      <th>13</th>\n      <td>commit-0</td>\n      <td>Human</td>\n      <td>False</td>\n      <td>Bot</td>\n      <td>0.857</td>\n      <td>Bot</td>\n      <td>Bot</td>\n    </tr>\n    <tr>\n      <th>14</th>\n      <td>coveralls</td>\n      <td>Bot</td>\n      <td>False</td>\n      <td>Bot</td>\n      <td>0.910</td>\n      <td>Bot</td>\n      <td>Bot</td>\n    </tr>\n    <tr>\n      <th>15</th>\n      <td>d-v-b</td>\n      <td>Human</td>\n      <td>False</td>\n      <td>Human</td>\n      <td>0.866</td>\n      <td>Human</td>\n      <td>Human</td>\n    </tr>\n    <tr>\n      <th>16</th>\n      <td>dependabot[bot]</td>\n      <td>Bot</td>\n      <td>True</td>\n      <td>Bot</td>\n      <td>0.834</td>\n      <td>Bot</td>\n      <td>Bot</td>\n    </tr>\n    <tr>\n      <th>17</th>\n      <td>ecodiv</td>\n      <td>Human</td>\n      <td>False</td>\n      <td>Human</td>\n      <td>0.762</td>\n      <td>Human</td>\n      <td>Human</td>\n    </tr>\n    <tr>\n      <th>18</th>\n      <td>editorialbot</td>\n      <td>Human</td>\n      <td>False</td>\n      <td>Bot</td>\n      <td>0.471</td>\n      <td>Bot</td>\n      <td>Bot</td>\n    </tr>\n    <tr>\n      <th>19</th>\n      <td>galaxyproject-sentryintegration[bot]</td>\n      <td>Bot</td>\n      <td>True</td>\n      <td>Bot</td>\n      <td>0.526</td>\n      <td>Bot</td>\n      <td>Bot</td>\n    </tr>\n    <tr>\n      <th>20</th>\n      <td>gandhis1</td>\n      <td>Human</td>\n      <td>False</td>\n      <td>Human</td>\n      <td>0.939</td>\n      <td>Human</td>\n      <td>Human</td>\n    </tr>\n    <tr>\n      <th>21</th>\n      <td>github-merge-queue[bot]</td>\n      <td>Bot</td>\n      <td>True</td>\n      <td>Bot</td>\n      <td>0.794</td>\n      <td>Bot</td>\n      <td>Bot</td>\n    </tr>\n    <tr>\n      <th>22</th>\n      <td>hobu</td>\n      <td>Human</td>\n      <td>False</td>\n      <td>Human</td>\n      <td>0.823</td>\n      <td>Human</td>\n      <td>Human</td>\n    </tr>\n    <tr>\n      <th>23</th>\n      <td>imagesc-bot</td>\n      <td>Bot</td>\n      <td>False</td>\n      <td>Human</td>\n      <td>0.145</td>\n      <td>Bot</td>\n      <td>Bot</td>\n    </tr>\n    <tr>\n      <th>24</th>\n      <td>jbusecke</td>\n      <td>Human</td>\n      <td>False</td>\n      <td>Human</td>\n      <td>0.944</td>\n      <td>Human</td>\n      <td>Human</td>\n    </tr>\n    <tr>\n      <th>25</th>\n      <td>joshmoore</td>\n      <td>Human</td>\n      <td>False</td>\n      <td>Human</td>\n      <td>0.950</td>\n      <td>Human</td>\n      <td>Human</td>\n    </tr>\n    <tr>\n      <th>26</th>\n      <td>kelvinou01</td>\n      <td>Human</td>\n      <td>False</td>\n      <td>Human</td>\n      <td>0.797</td>\n      <td>Human</td>\n      <td>Human</td>\n    </tr>\n    <tr>\n      <th>27</th>\n      <td>lpsinger</td>\n      <td>Human</td>\n      <td>False</td>\n      <td>Human</td>\n      <td>0.894</td>\n      <td>Human</td>\n      <td>Human</td>\n    </tr>\n    <tr>\n      <th>28</th>\n      <td>matthewfeickert</td>\n      <td>Human</td>\n      <td>False</td>\n      <td>Human</td>\n      <td>0.957</td>\n      <td>Human</td>\n      <td>Human</td>\n    </tr>\n    <tr>\n      <th>29</th>\n      <td>meeseeksmachine</td>\n      <td>Bot</td>\n      <td>False</td>\n      <td>Bot</td>\n      <td>0.791</td>\n      <td>Bot</td>\n      <td>Bot</td>\n    </tr>\n    <tr>\n      <th>30</th>\n      <td>mmore500</td>\n      <td>Human</td>\n      <td>False</td>\n      <td>Bot</td>\n      <td>0.911</td>\n      <td>Human</td>\n      <td>Human</td>\n    </tr>\n    <tr>\n      <th>31</th>\n      <td>nhz2</td>\n      <td>Human</td>\n      <td>False</td>\n      <td>Human</td>\n      <td>0.737</td>\n      <td>Human</td>\n      <td>Human</td>\n    </tr>\n    <tr>\n      <th>32</th>\n      <td>pascoec</td>\n      <td>Human</td>\n      <td>False</td>\n      <td>Human</td>\n      <td>0.787</td>\n      <td>Human</td>\n      <td>Human</td>\n    </tr>\n    <tr>\n      <th>33</th>\n      <td>pre-commit-ci[bot]</td>\n      <td>Bot</td>\n      <td>True</td>\n      <td>Bot</td>\n      <td>0.936</td>\n      <td>Bot</td>\n      <td>Bot</td>\n    </tr>\n    <tr>\n      <th>34</th>\n      <td>rabernat</td>\n      <td>Human</td>\n      <td>False</td>\n      <td>Human</td>\n      <td>0.953</td>\n      <td>Human</td>\n      <td>Human</td>\n    </tr>\n    <tr>\n      <th>35</th>\n      <td>renovate[bot]</td>\n      <td>Bot</td>\n      <td>True</td>\n      <td>Bot</td>\n      <td>0.166</td>\n      <td>Bot</td>\n      <td>Bot</td>\n    </tr>\n    <tr>\n      <th>36</th>\n      <td>santikka</td>\n      <td>Human</td>\n      <td>False</td>\n      <td>Human</td>\n      <td>0.873</td>\n      <td>Human</td>\n      <td>Human</td>\n    </tr>\n    <tr>\n      <th>37</th>\n      <td>steffilazerte</td>\n      <td>Human</td>\n      <td>False</td>\n      <td>Human</td>\n      <td>0.905</td>\n      <td>Human</td>\n      <td>Human</td>\n    </tr>\n    <tr>\n      <th>38</th>\n      <td>travishathaway</td>\n      <td>Human</td>\n      <td>False</td>\n      <td>Human</td>\n      <td>0.704</td>\n      <td>Human</td>\n      <td>Human</td>\n    </tr>\n    <tr>\n      <th>39</th>\n      <td>yabellini</td>\n      <td>Human</td>\n      <td>False</td>\n      <td>Human</td>\n      <td>0.815</td>\n      <td>Human</td>\n      <td>Human</td>\n    </tr>\n  </tbody>\n</table>\n</div>"
     },
     "execution_count": 561,
     "metadata": {},
     "output_type": "execute_result"
    }
   ],
   "source": [
    "# Write your code below here to determine the final type of contributor.\n",
    "# add column named 'acc_type' and write your final decision in it. Final decision is majority of three types - bimbas_type, bothunter_type, manual.\n",
    "\n",
    "df = pd.merge(df, pd.DataFrame.from_dict(manual_list_dict), on='contributor')\n",
    "df['acc_type'] = df[['bothunter_type', 'bimbas_type', 'manual']].mode(axis=1)[0]\n",
    "df"
   ]
  },
  {
   "cell_type": "markdown",
   "id": "0ec42ed1-0758-4ce4-82cc-542e490626dc",
   "metadata": {},
   "source": [
    "### Question 4\n",
    "#### Study and report the purpose of these identified bots and humans in the repository assigned to you.\n",
    "#### For example, the purpose can be based on but not limited to - \n",
    "##### 1) the type of activities that they are performing (releasing a version on every Sunday, updating the documentation), \n",
    "##### 2) type of comments they are posting (reviewing code, test summary report), \n",
    "##### 3) when are they triggered (when a new PR is created, when someone in the project ask the bot to merge the code) and so on.  \n",
    "#### Note: \n",
    "##### The purpose can be other than what is provided in examples above."
   ]
  },
  {
   "cell_type": "code",
   "execution_count": 561,
   "id": "64569eb1-7faa-46e4-bb81-02bb1058b2a7",
   "metadata": {},
   "outputs": [],
   "source": []
  },
  {
   "cell_type": "markdown",
   "id": "88945f23-8222-4925-b6fc-b049b0761a7a",
   "metadata": {},
   "source": [
    "## Section 5"
   ]
  },
  {
   "cell_type": "markdown",
   "id": "6d107b13-0c4f-4a56-a284-596f73a53d2f",
   "metadata": {},
   "source": [
    "### Question 1\n",
    "#### Use the filtered events file that has the events performed by the contributors provided to you\n",
    "#### Group each event into the following four categories\n",
    "\n",
    "Issues: IssueCommentEvent, IssuesEvent  \n",
    "Pull Requests: PullRequestEvent, PullRequestReviewCommentEvent  \n",
    "Commits: CommitCommentEvent, PushEvent  \n",
    "Repository: CreateEvent, DeleteEvent, ForkEvent, GollumEvent, MemberEvent, PublicEvent, ReleaseEvent, SponsorshipEvent, WatchEvent  \n",
    "\n",
    "#### Hint:\n",
    "1. Add a column called event_group that mentions which event group does that event belong to. Each event (row) should correspond to an event group.  \n",
    "2. Then perform groupby on ['login','event_group'],  \n",
    "3. use .agg (https://pandas.pydata.org/pandas-docs/stable/reference/api/pandas.DataFrame.agg.html) to count the number of events performed by each contributor in each group,  \n",
    "4. use pivot with the required arguments (https://pandas.pydata.org/pandas-docs/stable/reference/api/pandas.DataFrame.pivot.html). An example is given [here](#pivot_example) in question 2(b), and\n",
    "5. Reset index and rename axis with None\n",
    "7. Finally merge it with your 'acc_type' field from the DataFrame you created in Section4, drop contributor, and fillna with 0\n",
    "8. The final DataFrame should have the following columns - login, PR, commit, issue, repo, acc_type\n",
    "\n",
    "The final DataFrame should be looking like the following  \n",
    "![](event_group.png)"
   ]
  },
  {
   "cell_type": "code",
   "execution_count": 562,
   "id": "06072cfd-9de7-4e25-a3fa-11296a728484",
   "metadata": {},
   "outputs": [],
   "source": [
    "# In the resultant DataFrame - each row should correspond to a contributor, and the columns should have all the event groups\n",
    "# and the type of the contributor (that you decided in the previous DataFrame) and the values should be the number \n",
    "# of events of that event event group the contributor has performed.\n",
    "\n",
    "issue_group = ['IssueCommentEvent', 'IssuesEvent']\n",
    "pr_group = ['PullRequestEvent', 'PullRequestReviewCommentEvent']\n",
    "commit_group = ['CommitCommentEvent', 'PushEvent']\n",
    "repo_group = ['CreateEvent', 'DeleteEvent', 'ForkEvent', 'GollumEvent', 'MemberEvent', 'PublicEvent', 'ReleaseEvent', 'SponsorshipEvent', 'WatchEvent']"
   ]
  },
  {
   "cell_type": "code",
   "execution_count": 563,
   "id": "326eaddf-c6f2-4e7e-a3e1-37183a3c90ca",
   "metadata": {},
   "outputs": [
    {
     "name": "stderr",
     "output_type": "stream",
     "text": [
      "C:\\Users\\1simo\\AppData\\Local\\Temp\\ipykernel_25320\\3705607192.py:3: SettingWithCopyWarning: \n",
      "A value is trying to be set on a copy of a slice from a DataFrame.\n",
      "Try using .loc[row_indexer,col_indexer] = value instead\n",
      "\n",
      "See the caveats in the documentation: https://pandas.pydata.org/pandas-docs/stable/user_guide/indexing.html#returning-a-view-versus-a-copy\n",
      "  selected_events.loc[index, 'event_group'] = 'issue'\n"
     ]
    },
    {
     "data": {
      "text/plain": "                                   login     PR  commit   issue    repo  \\\n0                                 Cadair  316.0   126.0   141.0    49.0   \n1                           HumphreyYang   25.0    73.0    46.0    16.0   \n2                       JuliaRegistrator    0.0    82.0   364.0     0.0   \n3                                MridulS   40.0    39.0    21.0     8.0   \n4                               SobhanMP   14.0     1.0    25.0     2.0   \n5                                Zentrik   30.0     5.0    52.0     0.0   \n6                             andy-sweet   16.0     2.0    38.0     0.0   \n7                            baszalmstra  114.0    84.0    53.0   235.0   \n8                         bioc-issue-bot    0.0     0.0   906.0     0.0   \n9                                bryevdv   89.0    59.0   231.0    24.0   \n10                            chainer-ci   49.0     0.0     9.0     0.0   \n11                          codecov[bot]    0.0     0.0  1683.0     0.0   \n12                      codspeed-hq[bot]    0.0     0.0   186.0     0.0   \n13                              commit-0    0.0     0.0     0.0    35.0   \n14                             coveralls    0.0     0.0   268.0     0.0   \n15                                 d-v-b  128.0    23.0   175.0     4.0   \n16                       dependabot[bot]  802.0    64.0   259.0   951.0   \n17                                ecodiv   15.0     5.0    20.0     2.0   \n18                          editorialbot  710.0  2866.0  7111.0  2966.0   \n19  galaxyproject-sentryintegration[bot]    0.0     0.0    48.0     0.0   \n20                              gandhis1   20.0     0.0    10.0     2.0   \n21               github-merge-queue[bot]    0.0    94.0     0.0   201.0   \n22                                  hobu    1.0     0.0    13.0     1.0   \n23                           imagesc-bot    0.0     0.0    17.0     0.0   \n24                              jbusecke    4.0     0.0     8.0     1.0   \n25                             joshmoore   20.0    23.0    64.0    17.0   \n26                            kelvinou01    6.0     0.0     5.0     2.0   \n27                              lpsinger   13.0     3.0    32.0     0.0   \n28                       matthewfeickert   49.0    21.0    51.0    34.0   \n29                       meeseeksmachine  253.0     0.0     0.0     2.0   \n30                              mmore500    0.0     0.0    29.0     0.0   \n31                                  nhz2   28.0     0.0    36.0     0.0   \n32                               pascoec   11.0     8.0     2.0    13.0   \n33                    pre-commit-ci[bot]  473.0   628.0     0.0   408.0   \n34                              rabernat   11.0     3.0    45.0     4.0   \n35                         renovate[bot]  158.0   127.0    12.0   233.0   \n36                              santikka    1.0    11.0     6.0     0.0   \n37                         steffilazerte  133.0     9.0    13.0     9.0   \n38                        travishathaway   74.0    41.0   170.0     6.0   \n39                             yabellini  141.0   100.0    64.0    31.0   \n\n   acc_type  \n0     Human  \n1     Human  \n2       Bot  \n3     Human  \n4     Human  \n5     Human  \n6     Human  \n7     Human  \n8       Bot  \n9     Human  \n10      Bot  \n11      Bot  \n12      Bot  \n13      Bot  \n14      Bot  \n15    Human  \n16      Bot  \n17    Human  \n18      Bot  \n19      Bot  \n20    Human  \n21      Bot  \n22    Human  \n23      Bot  \n24    Human  \n25    Human  \n26    Human  \n27    Human  \n28    Human  \n29      Bot  \n30    Human  \n31    Human  \n32    Human  \n33      Bot  \n34    Human  \n35      Bot  \n36    Human  \n37    Human  \n38    Human  \n39    Human  ",
      "text/html": "<div>\n<style scoped>\n    .dataframe tbody tr th:only-of-type {\n        vertical-align: middle;\n    }\n\n    .dataframe tbody tr th {\n        vertical-align: top;\n    }\n\n    .dataframe thead th {\n        text-align: right;\n    }\n</style>\n<table border=\"1\" class=\"dataframe\">\n  <thead>\n    <tr style=\"text-align: right;\">\n      <th></th>\n      <th>login</th>\n      <th>PR</th>\n      <th>commit</th>\n      <th>issue</th>\n      <th>repo</th>\n      <th>acc_type</th>\n    </tr>\n  </thead>\n  <tbody>\n    <tr>\n      <th>0</th>\n      <td>Cadair</td>\n      <td>316.0</td>\n      <td>126.0</td>\n      <td>141.0</td>\n      <td>49.0</td>\n      <td>Human</td>\n    </tr>\n    <tr>\n      <th>1</th>\n      <td>HumphreyYang</td>\n      <td>25.0</td>\n      <td>73.0</td>\n      <td>46.0</td>\n      <td>16.0</td>\n      <td>Human</td>\n    </tr>\n    <tr>\n      <th>2</th>\n      <td>JuliaRegistrator</td>\n      <td>0.0</td>\n      <td>82.0</td>\n      <td>364.0</td>\n      <td>0.0</td>\n      <td>Bot</td>\n    </tr>\n    <tr>\n      <th>3</th>\n      <td>MridulS</td>\n      <td>40.0</td>\n      <td>39.0</td>\n      <td>21.0</td>\n      <td>8.0</td>\n      <td>Human</td>\n    </tr>\n    <tr>\n      <th>4</th>\n      <td>SobhanMP</td>\n      <td>14.0</td>\n      <td>1.0</td>\n      <td>25.0</td>\n      <td>2.0</td>\n      <td>Human</td>\n    </tr>\n    <tr>\n      <th>5</th>\n      <td>Zentrik</td>\n      <td>30.0</td>\n      <td>5.0</td>\n      <td>52.0</td>\n      <td>0.0</td>\n      <td>Human</td>\n    </tr>\n    <tr>\n      <th>6</th>\n      <td>andy-sweet</td>\n      <td>16.0</td>\n      <td>2.0</td>\n      <td>38.0</td>\n      <td>0.0</td>\n      <td>Human</td>\n    </tr>\n    <tr>\n      <th>7</th>\n      <td>baszalmstra</td>\n      <td>114.0</td>\n      <td>84.0</td>\n      <td>53.0</td>\n      <td>235.0</td>\n      <td>Human</td>\n    </tr>\n    <tr>\n      <th>8</th>\n      <td>bioc-issue-bot</td>\n      <td>0.0</td>\n      <td>0.0</td>\n      <td>906.0</td>\n      <td>0.0</td>\n      <td>Bot</td>\n    </tr>\n    <tr>\n      <th>9</th>\n      <td>bryevdv</td>\n      <td>89.0</td>\n      <td>59.0</td>\n      <td>231.0</td>\n      <td>24.0</td>\n      <td>Human</td>\n    </tr>\n    <tr>\n      <th>10</th>\n      <td>chainer-ci</td>\n      <td>49.0</td>\n      <td>0.0</td>\n      <td>9.0</td>\n      <td>0.0</td>\n      <td>Bot</td>\n    </tr>\n    <tr>\n      <th>11</th>\n      <td>codecov[bot]</td>\n      <td>0.0</td>\n      <td>0.0</td>\n      <td>1683.0</td>\n      <td>0.0</td>\n      <td>Bot</td>\n    </tr>\n    <tr>\n      <th>12</th>\n      <td>codspeed-hq[bot]</td>\n      <td>0.0</td>\n      <td>0.0</td>\n      <td>186.0</td>\n      <td>0.0</td>\n      <td>Bot</td>\n    </tr>\n    <tr>\n      <th>13</th>\n      <td>commit-0</td>\n      <td>0.0</td>\n      <td>0.0</td>\n      <td>0.0</td>\n      <td>35.0</td>\n      <td>Bot</td>\n    </tr>\n    <tr>\n      <th>14</th>\n      <td>coveralls</td>\n      <td>0.0</td>\n      <td>0.0</td>\n      <td>268.0</td>\n      <td>0.0</td>\n      <td>Bot</td>\n    </tr>\n    <tr>\n      <th>15</th>\n      <td>d-v-b</td>\n      <td>128.0</td>\n      <td>23.0</td>\n      <td>175.0</td>\n      <td>4.0</td>\n      <td>Human</td>\n    </tr>\n    <tr>\n      <th>16</th>\n      <td>dependabot[bot]</td>\n      <td>802.0</td>\n      <td>64.0</td>\n      <td>259.0</td>\n      <td>951.0</td>\n      <td>Bot</td>\n    </tr>\n    <tr>\n      <th>17</th>\n      <td>ecodiv</td>\n      <td>15.0</td>\n      <td>5.0</td>\n      <td>20.0</td>\n      <td>2.0</td>\n      <td>Human</td>\n    </tr>\n    <tr>\n      <th>18</th>\n      <td>editorialbot</td>\n      <td>710.0</td>\n      <td>2866.0</td>\n      <td>7111.0</td>\n      <td>2966.0</td>\n      <td>Bot</td>\n    </tr>\n    <tr>\n      <th>19</th>\n      <td>galaxyproject-sentryintegration[bot]</td>\n      <td>0.0</td>\n      <td>0.0</td>\n      <td>48.0</td>\n      <td>0.0</td>\n      <td>Bot</td>\n    </tr>\n    <tr>\n      <th>20</th>\n      <td>gandhis1</td>\n      <td>20.0</td>\n      <td>0.0</td>\n      <td>10.0</td>\n      <td>2.0</td>\n      <td>Human</td>\n    </tr>\n    <tr>\n      <th>21</th>\n      <td>github-merge-queue[bot]</td>\n      <td>0.0</td>\n      <td>94.0</td>\n      <td>0.0</td>\n      <td>201.0</td>\n      <td>Bot</td>\n    </tr>\n    <tr>\n      <th>22</th>\n      <td>hobu</td>\n      <td>1.0</td>\n      <td>0.0</td>\n      <td>13.0</td>\n      <td>1.0</td>\n      <td>Human</td>\n    </tr>\n    <tr>\n      <th>23</th>\n      <td>imagesc-bot</td>\n      <td>0.0</td>\n      <td>0.0</td>\n      <td>17.0</td>\n      <td>0.0</td>\n      <td>Bot</td>\n    </tr>\n    <tr>\n      <th>24</th>\n      <td>jbusecke</td>\n      <td>4.0</td>\n      <td>0.0</td>\n      <td>8.0</td>\n      <td>1.0</td>\n      <td>Human</td>\n    </tr>\n    <tr>\n      <th>25</th>\n      <td>joshmoore</td>\n      <td>20.0</td>\n      <td>23.0</td>\n      <td>64.0</td>\n      <td>17.0</td>\n      <td>Human</td>\n    </tr>\n    <tr>\n      <th>26</th>\n      <td>kelvinou01</td>\n      <td>6.0</td>\n      <td>0.0</td>\n      <td>5.0</td>\n      <td>2.0</td>\n      <td>Human</td>\n    </tr>\n    <tr>\n      <th>27</th>\n      <td>lpsinger</td>\n      <td>13.0</td>\n      <td>3.0</td>\n      <td>32.0</td>\n      <td>0.0</td>\n      <td>Human</td>\n    </tr>\n    <tr>\n      <th>28</th>\n      <td>matthewfeickert</td>\n      <td>49.0</td>\n      <td>21.0</td>\n      <td>51.0</td>\n      <td>34.0</td>\n      <td>Human</td>\n    </tr>\n    <tr>\n      <th>29</th>\n      <td>meeseeksmachine</td>\n      <td>253.0</td>\n      <td>0.0</td>\n      <td>0.0</td>\n      <td>2.0</td>\n      <td>Bot</td>\n    </tr>\n    <tr>\n      <th>30</th>\n      <td>mmore500</td>\n      <td>0.0</td>\n      <td>0.0</td>\n      <td>29.0</td>\n      <td>0.0</td>\n      <td>Human</td>\n    </tr>\n    <tr>\n      <th>31</th>\n      <td>nhz2</td>\n      <td>28.0</td>\n      <td>0.0</td>\n      <td>36.0</td>\n      <td>0.0</td>\n      <td>Human</td>\n    </tr>\n    <tr>\n      <th>32</th>\n      <td>pascoec</td>\n      <td>11.0</td>\n      <td>8.0</td>\n      <td>2.0</td>\n      <td>13.0</td>\n      <td>Human</td>\n    </tr>\n    <tr>\n      <th>33</th>\n      <td>pre-commit-ci[bot]</td>\n      <td>473.0</td>\n      <td>628.0</td>\n      <td>0.0</td>\n      <td>408.0</td>\n      <td>Bot</td>\n    </tr>\n    <tr>\n      <th>34</th>\n      <td>rabernat</td>\n      <td>11.0</td>\n      <td>3.0</td>\n      <td>45.0</td>\n      <td>4.0</td>\n      <td>Human</td>\n    </tr>\n    <tr>\n      <th>35</th>\n      <td>renovate[bot]</td>\n      <td>158.0</td>\n      <td>127.0</td>\n      <td>12.0</td>\n      <td>233.0</td>\n      <td>Bot</td>\n    </tr>\n    <tr>\n      <th>36</th>\n      <td>santikka</td>\n      <td>1.0</td>\n      <td>11.0</td>\n      <td>6.0</td>\n      <td>0.0</td>\n      <td>Human</td>\n    </tr>\n    <tr>\n      <th>37</th>\n      <td>steffilazerte</td>\n      <td>133.0</td>\n      <td>9.0</td>\n      <td>13.0</td>\n      <td>9.0</td>\n      <td>Human</td>\n    </tr>\n    <tr>\n      <th>38</th>\n      <td>travishathaway</td>\n      <td>74.0</td>\n      <td>41.0</td>\n      <td>170.0</td>\n      <td>6.0</td>\n      <td>Human</td>\n    </tr>\n    <tr>\n      <th>39</th>\n      <td>yabellini</td>\n      <td>141.0</td>\n      <td>100.0</td>\n      <td>64.0</td>\n      <td>31.0</td>\n      <td>Human</td>\n    </tr>\n  </tbody>\n</table>\n</div>"
     },
     "execution_count": 563,
     "metadata": {},
     "output_type": "execute_result"
    }
   ],
   "source": [
    "for index, row in selected_events.iterrows():\n",
    "    if row['event_type'] in issue_group:\n",
    "        selected_events.loc[index, 'event_group'] = 'issue'\n",
    "    elif row['event_type'] in pr_group:\n",
    "        selected_events.loc[index, 'event_group'] = 'PR'\n",
    "    elif row['event_type'] in commit_group:\n",
    "        selected_events.loc[index, 'event_group'] = 'commit'\n",
    "    elif row['event_type'] in repo_group:\n",
    "        selected_events.loc[index, 'event_group'] = 'repo'\n",
    "\n",
    "groupby_events = selected_events.groupby(['login', 'event_group']).size().reset_index(name='count')\n",
    "df_groupby = groupby_events.pivot(index='login', columns='event_group', values='count').reset_index().rename_axis(None,axis=1)\n",
    "df_groupby = pd.merge(df_groupby, df[['contributor', 'acc_type']], left_on='login', right_on='contributor', how='left').drop(columns=['contributor']).fillna(0)\n",
    "df_groupby\n",
    "\n"
   ]
  },
  {
   "cell_type": "code",
   "execution_count": 564,
   "id": "3b8b35af-92af-4ffd-8d99-2dd34d865ac1",
   "metadata": {},
   "outputs": [],
   "source": [
    "# YOUR CODE BELOW\n"
   ]
  },
  {
   "cell_type": "markdown",
   "id": "afca3310-5bef-48f5-be38-e0861d5c43b6",
   "metadata": {},
   "source": [
    "### Question 2 (a)\n",
    "\n",
    "#### Compute the median number of events per event group for Bot+Bot actors and Humans and write in DataFrame.\n",
    "\n",
    "Row should correspond to type (Bot_BotActor and Human), Column should have Event group name and the values should be the median value of Bot_BotActor or Human for that particular event group. An example is given below"
   ]
  },
  {
   "cell_type": "code",
   "execution_count": 565,
   "id": "ef89644a-1f38-4e67-81ab-c54db8d6c0ad",
   "metadata": {},
   "outputs": [
    {
     "data": {
      "text/plain": "    event_group median acc_type\n0  event_group1   val1  Bot_app\n1  event_group1   val2    Human\n2  event_group2   val3  Bot_app\n3  event_group2   val4    Human\n4  event_group3   val5  Bot_app\n5  event_group3   val6    Human\n6  event_group4   val7  Bot_app\n7  event_group5   val8    Human",
      "text/html": "<div>\n<style scoped>\n    .dataframe tbody tr th:only-of-type {\n        vertical-align: middle;\n    }\n\n    .dataframe tbody tr th {\n        vertical-align: top;\n    }\n\n    .dataframe thead th {\n        text-align: right;\n    }\n</style>\n<table border=\"1\" class=\"dataframe\">\n  <thead>\n    <tr style=\"text-align: right;\">\n      <th></th>\n      <th>event_group</th>\n      <th>median</th>\n      <th>acc_type</th>\n    </tr>\n  </thead>\n  <tbody>\n    <tr>\n      <th>0</th>\n      <td>event_group1</td>\n      <td>val1</td>\n      <td>Bot_app</td>\n    </tr>\n    <tr>\n      <th>1</th>\n      <td>event_group1</td>\n      <td>val2</td>\n      <td>Human</td>\n    </tr>\n    <tr>\n      <th>2</th>\n      <td>event_group2</td>\n      <td>val3</td>\n      <td>Bot_app</td>\n    </tr>\n    <tr>\n      <th>3</th>\n      <td>event_group2</td>\n      <td>val4</td>\n      <td>Human</td>\n    </tr>\n    <tr>\n      <th>4</th>\n      <td>event_group3</td>\n      <td>val5</td>\n      <td>Bot_app</td>\n    </tr>\n    <tr>\n      <th>5</th>\n      <td>event_group3</td>\n      <td>val6</td>\n      <td>Human</td>\n    </tr>\n    <tr>\n      <th>6</th>\n      <td>event_group4</td>\n      <td>val7</td>\n      <td>Bot_app</td>\n    </tr>\n    <tr>\n      <th>7</th>\n      <td>event_group5</td>\n      <td>val8</td>\n      <td>Human</td>\n    </tr>\n  </tbody>\n</table>\n</div>"
     },
     "execution_count": 565,
     "metadata": {},
     "output_type": "execute_result"
    }
   ],
   "source": [
    "# For example:\n",
    "medians = [{'event_group': 'event_group1', 'median': 'val1', 'acc_type': 'Bot_app'}, \n",
    "           {'event_group': 'event_group1', 'median': 'val2', 'acc_type': 'Human'},\n",
    "           {'event_group': 'event_group2', 'median': 'val3', 'acc_type': 'Bot_app'},\n",
    "           {'event_group': 'event_group2', 'median': 'val4', 'acc_type': 'Human'},\n",
    "           {'event_group': 'event_group3', 'median': 'val5', 'acc_type': 'Bot_app'},\n",
    "           {'event_group': 'event_group3', 'median': 'val6', 'acc_type': 'Human'},\n",
    "           {'event_group': 'event_group4', 'median': 'val7', 'acc_type': 'Bot_app'},\n",
    "           {'event_group': 'event_group5', 'median': 'val8', 'acc_type': 'Human'}]\n",
    "df_medians = pd.DataFrame.from_dict(medians)\n",
    "df_medians"
   ]
  },
  {
   "cell_type": "code",
   "execution_count": 566,
   "id": "1c3dc1ce-f19c-44b7-8fa1-35df0ffaa936",
   "metadata": {},
   "outputs": [
    {
     "data": {
      "text/plain": "  event_group  median acc_type\n0       issue    48.0      Bot\n1       issue    36.0    Human\n2          PR     0.0      Bot\n3          PR    20.0    Human\n4      commit     0.0      Bot\n5      commit     8.0    Human\n6        repo     0.0      Bot\n7        repo     4.0    Human",
      "text/html": "<div>\n<style scoped>\n    .dataframe tbody tr th:only-of-type {\n        vertical-align: middle;\n    }\n\n    .dataframe tbody tr th {\n        vertical-align: top;\n    }\n\n    .dataframe thead th {\n        text-align: right;\n    }\n</style>\n<table border=\"1\" class=\"dataframe\">\n  <thead>\n    <tr style=\"text-align: right;\">\n      <th></th>\n      <th>event_group</th>\n      <th>median</th>\n      <th>acc_type</th>\n    </tr>\n  </thead>\n  <tbody>\n    <tr>\n      <th>0</th>\n      <td>issue</td>\n      <td>48.0</td>\n      <td>Bot</td>\n    </tr>\n    <tr>\n      <th>1</th>\n      <td>issue</td>\n      <td>36.0</td>\n      <td>Human</td>\n    </tr>\n    <tr>\n      <th>2</th>\n      <td>PR</td>\n      <td>0.0</td>\n      <td>Bot</td>\n    </tr>\n    <tr>\n      <th>3</th>\n      <td>PR</td>\n      <td>20.0</td>\n      <td>Human</td>\n    </tr>\n    <tr>\n      <th>4</th>\n      <td>commit</td>\n      <td>0.0</td>\n      <td>Bot</td>\n    </tr>\n    <tr>\n      <th>5</th>\n      <td>commit</td>\n      <td>8.0</td>\n      <td>Human</td>\n    </tr>\n    <tr>\n      <th>6</th>\n      <td>repo</td>\n      <td>0.0</td>\n      <td>Bot</td>\n    </tr>\n    <tr>\n      <th>7</th>\n      <td>repo</td>\n      <td>4.0</td>\n      <td>Human</td>\n    </tr>\n  </tbody>\n</table>\n</div>"
     },
     "execution_count": 566,
     "metadata": {},
     "output_type": "execute_result"
    }
   ],
   "source": [
    "medians = []\n",
    "for event_group in ['issue', 'PR', 'commit', 'repo']:\n",
    "    for acc_type in ['Bot', 'Human']:\n",
    "        median = df_groupby[df_groupby['acc_type'] == acc_type][event_group].median()\n",
    "        medians.append({'event_group': event_group, 'median': median, 'acc_type': acc_type})\n",
    "df_medians = pd.DataFrame.from_dict(medians)\n",
    "df_medians"
   ]
  },
  {
   "cell_type": "markdown",
   "id": "8eafa8a6-3c98-41db-bebd-64adc634f77f",
   "metadata": {},
   "source": [
    "### Question 2 (b)\n",
    "\n",
    "Plot a heatmap of the DataFrame using seaborn - \n",
    "1. First convert the dataframe to the required format using pivot, example is given below\n",
    "2. plot using seaborn - sns.heatmap(df_medians, annot=True, vmin=0, vmax=300, cmap=\"crest\"). More details: https://seaborn.pydata.org/generated/seaborn.heatmap.html)"
   ]
  },
  {
   "cell_type": "markdown",
   "id": "2bd13bb8-628d-444e-b4a2-9887378a9cef",
   "metadata": {},
   "source": [
    "#### pd.pivot example:\n",
    "<a id='pivot_example'></a>"
   ]
  },
  {
   "cell_type": "code",
   "execution_count": 567,
   "id": "3fbf8d1e-86ba-4b86-8bfc-d1bba83c63a8",
   "metadata": {},
   "outputs": [
    {
     "data": {
      "text/plain": "    event_group median acc_type\n0  event_group1   val1      Bot\n1  event_group1   val2    Human\n2  event_group2   val3      Bot\n3  event_group2   val4    Human\n4  event_group3   val5      Bot\n5  event_group3   val6    Human\n6  event_group4   val7      Bot\n7  event_group5   val8    Human",
      "text/html": "<div>\n<style scoped>\n    .dataframe tbody tr th:only-of-type {\n        vertical-align: middle;\n    }\n\n    .dataframe tbody tr th {\n        vertical-align: top;\n    }\n\n    .dataframe thead th {\n        text-align: right;\n    }\n</style>\n<table border=\"1\" class=\"dataframe\">\n  <thead>\n    <tr style=\"text-align: right;\">\n      <th></th>\n      <th>event_group</th>\n      <th>median</th>\n      <th>acc_type</th>\n    </tr>\n  </thead>\n  <tbody>\n    <tr>\n      <th>0</th>\n      <td>event_group1</td>\n      <td>val1</td>\n      <td>Bot</td>\n    </tr>\n    <tr>\n      <th>1</th>\n      <td>event_group1</td>\n      <td>val2</td>\n      <td>Human</td>\n    </tr>\n    <tr>\n      <th>2</th>\n      <td>event_group2</td>\n      <td>val3</td>\n      <td>Bot</td>\n    </tr>\n    <tr>\n      <th>3</th>\n      <td>event_group2</td>\n      <td>val4</td>\n      <td>Human</td>\n    </tr>\n    <tr>\n      <th>4</th>\n      <td>event_group3</td>\n      <td>val5</td>\n      <td>Bot</td>\n    </tr>\n    <tr>\n      <th>5</th>\n      <td>event_group3</td>\n      <td>val6</td>\n      <td>Human</td>\n    </tr>\n    <tr>\n      <th>6</th>\n      <td>event_group4</td>\n      <td>val7</td>\n      <td>Bot</td>\n    </tr>\n    <tr>\n      <th>7</th>\n      <td>event_group5</td>\n      <td>val8</td>\n      <td>Human</td>\n    </tr>\n  </tbody>\n</table>\n</div>"
     },
     "execution_count": 567,
     "metadata": {},
     "output_type": "execute_result"
    }
   ],
   "source": [
    "# Main DataFrame\n",
    "medians = [{'event_group': 'event_group1', 'median': 'val1', 'acc_type': 'Bot'}, \n",
    "           {'event_group': 'event_group1', 'median': 'val2', 'acc_type': 'Human'},\n",
    "           {'event_group': 'event_group2', 'median': 'val3', 'acc_type': 'Bot'},\n",
    "           {'event_group': 'event_group2', 'median': 'val4', 'acc_type': 'Human'},\n",
    "           {'event_group': 'event_group3', 'median': 'val5', 'acc_type': 'Bot'},\n",
    "           {'event_group': 'event_group3', 'median': 'val6', 'acc_type': 'Human'},\n",
    "           {'event_group': 'event_group4', 'median': 'val7', 'acc_type': 'Bot'},\n",
    "           {'event_group': 'event_group5', 'median': 'val8', 'acc_type': 'Human'}]\n",
    "df_medians = pd.DataFrame.from_dict(medians)\n",
    "df_medians"
   ]
  },
  {
   "cell_type": "code",
   "execution_count": 568,
   "id": "816f28a7-c281-4808-b987-5d74a1c08271",
   "metadata": {},
   "outputs": [
    {
     "data": {
      "text/plain": "event_group event_group1 event_group2 event_group3 event_group4 event_group5\nacc_type                                                                    \nBot                 val1         val3         val5         val7          NaN\nHuman               val2         val4         val6          NaN         val8",
      "text/html": "<div>\n<style scoped>\n    .dataframe tbody tr th:only-of-type {\n        vertical-align: middle;\n    }\n\n    .dataframe tbody tr th {\n        vertical-align: top;\n    }\n\n    .dataframe thead th {\n        text-align: right;\n    }\n</style>\n<table border=\"1\" class=\"dataframe\">\n  <thead>\n    <tr style=\"text-align: right;\">\n      <th>event_group</th>\n      <th>event_group1</th>\n      <th>event_group2</th>\n      <th>event_group3</th>\n      <th>event_group4</th>\n      <th>event_group5</th>\n    </tr>\n    <tr>\n      <th>acc_type</th>\n      <th></th>\n      <th></th>\n      <th></th>\n      <th></th>\n      <th></th>\n    </tr>\n  </thead>\n  <tbody>\n    <tr>\n      <th>Bot</th>\n      <td>val1</td>\n      <td>val3</td>\n      <td>val5</td>\n      <td>val7</td>\n      <td>NaN</td>\n    </tr>\n    <tr>\n      <th>Human</th>\n      <td>val2</td>\n      <td>val4</td>\n      <td>val6</td>\n      <td>NaN</td>\n      <td>val8</td>\n    </tr>\n  </tbody>\n</table>\n</div>"
     },
     "execution_count": 568,
     "metadata": {},
     "output_type": "execute_result"
    }
   ],
   "source": [
    "# pivot the main DataFrame\n",
    "df_medians.pivot(index='acc_type', columns='event_group', values='median')#.reset_index().rename_axis(None,axis=1)"
   ]
  },
  {
   "cell_type": "code",
   "execution_count": 569,
   "id": "24478c26-f367-4589-85dc-3cfa22614f3e",
   "metadata": {},
   "outputs": [
    {
     "data": {
      "text/plain": "  event_group  median acc_type\n0       issue    48.0      Bot\n1       issue    36.0    Human\n2          PR     0.0      Bot\n3          PR    20.0    Human\n4      commit     0.0      Bot\n5      commit     8.0    Human\n6        repo     0.0      Bot\n7        repo     4.0    Human",
      "text/html": "<div>\n<style scoped>\n    .dataframe tbody tr th:only-of-type {\n        vertical-align: middle;\n    }\n\n    .dataframe tbody tr th {\n        vertical-align: top;\n    }\n\n    .dataframe thead th {\n        text-align: right;\n    }\n</style>\n<table border=\"1\" class=\"dataframe\">\n  <thead>\n    <tr style=\"text-align: right;\">\n      <th></th>\n      <th>event_group</th>\n      <th>median</th>\n      <th>acc_type</th>\n    </tr>\n  </thead>\n  <tbody>\n    <tr>\n      <th>0</th>\n      <td>issue</td>\n      <td>48.0</td>\n      <td>Bot</td>\n    </tr>\n    <tr>\n      <th>1</th>\n      <td>issue</td>\n      <td>36.0</td>\n      <td>Human</td>\n    </tr>\n    <tr>\n      <th>2</th>\n      <td>PR</td>\n      <td>0.0</td>\n      <td>Bot</td>\n    </tr>\n    <tr>\n      <th>3</th>\n      <td>PR</td>\n      <td>20.0</td>\n      <td>Human</td>\n    </tr>\n    <tr>\n      <th>4</th>\n      <td>commit</td>\n      <td>0.0</td>\n      <td>Bot</td>\n    </tr>\n    <tr>\n      <th>5</th>\n      <td>commit</td>\n      <td>8.0</td>\n      <td>Human</td>\n    </tr>\n    <tr>\n      <th>6</th>\n      <td>repo</td>\n      <td>0.0</td>\n      <td>Bot</td>\n    </tr>\n    <tr>\n      <th>7</th>\n      <td>repo</td>\n      <td>4.0</td>\n      <td>Human</td>\n    </tr>\n  </tbody>\n</table>\n</div>"
     },
     "execution_count": 569,
     "metadata": {},
     "output_type": "execute_result"
    }
   ],
   "source": [
    "medians = []\n",
    "for event_group in ['issue', 'PR', 'commit', 'repo']:\n",
    "    for acc_type in ['Bot', 'Human']:\n",
    "        median = df_groupby[df_groupby['acc_type'] == acc_type][event_group].median()\n",
    "        medians.append({'event_group': event_group, 'median': median, 'acc_type': acc_type})\n",
    "df_medians = pd.DataFrame.from_dict(medians)\n",
    "df_medians"
   ]
  },
  {
   "cell_type": "code",
   "execution_count": 570,
   "id": "ab7b9ff6-1286-4c5b-a604-5459b6d2b099",
   "metadata": {},
   "outputs": [
    {
     "data": {
      "text/plain": "<Figure size 1000x500 with 2 Axes>",
      "image/png": "[encoded data removed]"
     },
     "metadata": {},
     "output_type": "display_data"
    }
   ],
   "source": [
    "df_medians_pivot = df_medians.pivot(index='acc_type', columns='event_group', values='median')\n",
    "plt.figure(figsize=(10, 5))\n",
    "sns.heatmap(df_medians_pivot, annot=True, vmin=0, vmax=300, cmap=\"crest\")\n",
    "plt.show()\n"
   ]
  },
  {
   "cell_type": "markdown",
   "id": "19d518fd-10f0-4f91-a38e-595fe89f36a2",
   "metadata": {},
   "source": [
    "#### What is the difference that you observe between Bots+Bot actors and Humans?"
   ]
  },
  {
   "cell_type": "code",
   "execution_count": 571,
   "id": "df3a1600-7110-4866-9de3-42b85b407722",
   "metadata": {},
   "outputs": [],
   "source": [
    "# Bots primarily interact with issues while humans have a more balanced distribution of events across issue, PR, commit, and repo."
   ]
  },
  {
   "cell_type": "markdown",
   "id": "1bbc377f-79bb-4b52-9bba-fe7cc4a804ab",
   "metadata": {},
   "source": [
    "#### What is the differnce that you observe between Event groups?"
   ]
  },
  {
   "cell_type": "code",
   "execution_count": 572,
   "id": "064cc1a2-c910-47a8-b327-deba02a815a1",
   "metadata": {},
   "outputs": [],
   "source": [
    "# Issue events have the highest number of events for both humans and bots."
   ]
  },
  {
   "cell_type": "markdown",
   "id": "5e941d75-0450-46f4-9345-d7f109ff9b92",
   "metadata": {},
   "source": [
    "#### What is the difference that you observe between Bots+Bot actors and Humans and Event groups all considering at the same time?"
   ]
  },
  {
   "cell_type": "code",
   "execution_count": 573,
   "id": "7145cbf9-e9a6-4798-aa23-54428bc7f73b",
   "metadata": {},
   "outputs": [],
   "source": [
    "# Bots have a higher number of events in the issue event group compared to humans, while humans have a more balanced distribution of events across all event groups."
   ]
  },
  {
   "cell_type": "markdown",
   "id": "5c402f2c-2628-4957-ac76-e48bb85564cf",
   "metadata": {},
   "source": [
    "### Question 3"
   ]
  },
  {
   "cell_type": "markdown",
   "id": "b7fd623c-4bc5-4cef-9649-fb8cdd41e981",
   "metadata": {},
   "source": [
    "#### Create boxen plots to visualise the distribution of number of events in each event group. \n",
    "#### For more information you can visit - https://seaborn.pydata.org/generated/seaborn.boxenplot.html#seaborn.boxenplot \n",
    "#### You should highlight the data points that correspond to bots using a stripplot in seaborn. https://seaborn.pydata.org/tutorial/categorical.html#categorical-tutorial  \n",
    "#### Interpret the results of the visualisation."
   ]
  },
  {
   "cell_type": "code",
   "execution_count": 574,
   "id": "21a499ac-e0c7-4b0d-9f90-78b704a13ef2",
   "metadata": {},
   "outputs": [
    {
     "data": {
      "text/plain": "<Figure size 1000x500 with 1 Axes>",
      "image/png": "[encoded data removed]"
     },
     "metadata": {},
     "output_type": "display_data"
    }
   ],
   "source": [
    "# YOUR CODE BELOW - Visualize number of events from pull request event group\n",
    "\n",
    "plt.figure(figsize=(10, 5))\n",
    "sns.boxenplot(x='PR', data=df_groupby, color='skyblue')\n",
    "sns.stripplot(x='PR', data=df_groupby[df_groupby['acc_type'] == 'Bot'], color='red', size=4)\n",
    "plt.show()"
   ]
  },
  {
   "cell_type": "code",
   "execution_count": 575,
   "id": "330c9d73-28a9-4d83-9728-cf595374235b",
   "metadata": {},
   "outputs": [
    {
     "data": {
      "text/plain": "<Figure size 1000x500 with 1 Axes>",
      "image/png": "[encoded data removed]"
     },
     "metadata": {},
     "output_type": "display_data"
    }
   ],
   "source": [
    "# YOUR CODE BELOW - Visualise number of events from issue event group\n",
    "plt.figure(figsize=(10, 5))\n",
    "sns.boxenplot(x='issue', data=df_groupby, color='skyblue')\n",
    "sns.stripplot(x='issue', data=df_groupby[df_groupby['acc_type'] == 'Bot'], color='red', size=4)\n",
    "plt.show()"
   ]
  },
  {
   "cell_type": "code",
   "execution_count": 576,
   "id": "a7ec1644-8c4d-4bd8-b504-3196ddab982e",
   "metadata": {},
   "outputs": [
    {
     "data": {
      "text/plain": "<Figure size 1000x500 with 1 Axes>",
      "image/png": "[encoded data removed]"
     },
     "metadata": {},
     "output_type": "display_data"
    }
   ],
   "source": [
    "# YOUR CODE BELOW - Visualise number of events from commit event group\n",
    "plt.figure(figsize=(10, 5))\n",
    "sns.boxenplot(x='commit', data=df_groupby, color='skyblue')\n",
    "sns.stripplot(x='commit', data=df_groupby[df_groupby['acc_type'] == 'Bot'], color='red', size=4)\n",
    "plt.show()"
   ]
  },
  {
   "cell_type": "code",
   "execution_count": 577,
   "id": "d1c2536a-0f6c-4f2e-a8a5-b07e8abf5217",
   "metadata": {},
   "outputs": [
    {
     "data": {
      "text/plain": "<Figure size 1000x500 with 1 Axes>",
      "image/png": "[encoded data removed]"
     },
     "metadata": {},
     "output_type": "display_data"
    }
   ],
   "source": [
    "# YOUR CODE BELOW - Visualise number of events from repo event group\n",
    "plt.figure(figsize=(10, 5))\n",
    "sns.boxenplot(x='repo', data=df_groupby, color='skyblue')\n",
    "sns.stripplot(x='repo', data=df_groupby[df_groupby['acc_type'] == 'Bot'], color='red', size=4)\n",
    "plt.show()"
   ]
  },
  {
   "cell_type": "markdown",
   "id": "a663a24f-ebbd-4707-a8e2-c4a72a9451a7",
   "metadata": {},
   "source": [
    "### Question 4.1"
   ]
  },
  {
   "cell_type": "markdown",
   "id": "ea2541bc-5f3a-4ce3-bfb1-21e16104b4c5",
   "metadata": {},
   "source": [
    "#### Statistical identify whether number of events in each event group is normally distributed or not.\n",
    "#### Null hypothesis - $H_0$: Sample comes from the data that has normal distribution.\n",
    "#### Use Shapiro-Wilk test for this purpose. Use the p-value with a threshold of 0.05 to determine whether $H_0$ can be rejected with statistical significance or not. \n",
    "\n",
    "#### Use shapiro from scipy.stats to perform this test (https://docs.scipy.org/doc/scipy/reference/generated/scipy.stats.shapiro.html)"
   ]
  },
  {
   "cell_type": "code",
   "execution_count": 578,
   "id": "d4273e9c-f29f-4b46-ab75-3ceb16a2aae6",
   "metadata": {},
   "outputs": [
    {
     "data": {
      "text/plain": "{'issue': ShapiroResult(statistic=np.float64(0.2662896954878775), pvalue=np.float64(6.882456910464553e-13)),\n 'PR': ShapiroResult(statistic=np.float64(0.5619508941268013), pvalue=np.float64(9.807488789584887e-10)),\n 'commit': ShapiroResult(statistic=np.float64(0.24373733136569264), pvalue=np.float64(4.335509370075749e-13)),\n 'repo': ShapiroResult(statistic=np.float64(0.2900761278320768), pvalue=np.float64(1.133076250337676e-12))}"
     },
     "execution_count": 578,
     "metadata": {},
     "output_type": "execute_result"
    }
   ],
   "source": [
    "shapiro_results = {}\n",
    "for event_group in ['issue', 'PR', 'commit', 'repo']:\n",
    "    shapiro_results[event_group] = shapiro(df_groupby[event_group])\n",
    "shapiro_results"
   ]
  },
  {
   "cell_type": "code",
   "execution_count": 579,
   "id": "03c8617f-a3ed-40ad-8b2f-7ff0a41c3518",
   "metadata": {},
   "outputs": [
    {
     "name": "stdout",
     "output_type": "stream",
     "text": [
      "Null hypothesis rejected for issue event group. p-value: 6.882456910464553e-13. Data is not normally distributed.\n",
      "Null hypothesis rejected for PR event group. p-value: 9.807488789584887e-10. Data is not normally distributed.\n",
      "Null hypothesis rejected for commit event group. p-value: 4.335509370075749e-13. Data is not normally distributed.\n",
      "Null hypothesis rejected for repo event group. p-value: 1.133076250337676e-12. Data is not normally distributed.\n"
     ]
    }
   ],
   "source": [
    "null_hypo_threshold = 0.05\n",
    "for event_group, result in shapiro_results.items():\n",
    "    if result.pvalue < null_hypo_threshold:\n",
    "        print(f\"Null hypothesis rejected for {event_group} event group. p-value: {result.pvalue}. Data is not normally distributed.\")\n",
    "    else:\n",
    "        print(f\"Null hypothesis not rejected for {event_group} event group. p-value: {result.pvalue}. Data is normally distributed.\")"
   ]
  },
  {
   "cell_type": "markdown",
   "id": "e7ed78ce-6901-4ddb-a219-d5a8c4e26886",
   "metadata": {},
   "source": [
    "### Question 4.2\n",
    "#### Determine if there is any statistical diﬀerence in number of events between the identified event groups. Perform this test on all pairs of event groups. \n",
    "#### Null hypothesis - $H_0$: Any two event group come from the same population.\n",
    "#### If $H_0$ is rejected in Shapiro-Wilk test (at least for one of the two event groups considered for test), use the Mann-Whitney U statistical test for this purpose. If $H_0$ is not rejected in Shapiro-Wilk test, use the independent t-test for this purpose.  \n",
    "#### In any case, use the p-value with a threshold of 0.01 to determine whether $H_0$ can be rejected with statistical significance. \n",
    "\n",
    "#### Use mannwhitneyu from scipy.stats to perform Mann-Whitney U test (https://docs.scipy.org/doc/scipy/reference/generated/scipy.stats.mannwhitneyu.html) \n",
    "#### or \n",
    "#### ttest_ind from scipy.stats to perform independent t-test https://docs.scipy.org/doc/scipy/reference/generated/scipy.stats.ttest_ind.html."
   ]
  },
  {
   "cell_type": "markdown",
   "id": "3d3fe255-f6a8-4c49-92aa-1859c98d51c1",
   "metadata": {},
   "source": [
    "#### More information:\n",
    "\n",
    "You can pass the following arguments to mannwhitneyu from scipy.stats - (method='exact', nan_policy='omit'). For ttest_ind you can use - (nan_policy='omit')"
   ]
  },
  {
   "cell_type": "code",
   "execution_count": 580,
   "id": "7e7c952f-15a8-4634-b786-90ff1e8f20da",
   "metadata": {},
   "outputs": [
    {
     "name": "stdout",
     "output_type": "stream",
     "text": [
      "Mann-Whitney U Test Results:\n",
      "Null hypothesis not rejected for ('issue', 'PR'). p-value: 0.14028311645020816. There is no statistical difference between the two event groups.\n",
      "Null hypothesis rejected for ('issue', 'commit'). p-value: 0.004769383387728781. There is a statistical difference between the two event groups.\n",
      "Null hypothesis rejected for ('issue', 'repo'). p-value: 0.0004430739331183868. There is a statistical difference between the two event groups.\n",
      "Null hypothesis not rejected for ('PR', 'commit'). p-value: 0.15100214343118015. There is no statistical difference between the two event groups.\n",
      "Null hypothesis not rejected for ('PR', 'repo'). p-value: 0.08589686714469841. There is no statistical difference between the two event groups.\n",
      "Null hypothesis not rejected for ('commit', 'repo'). p-value: 0.7196786838566284. There is no statistical difference between the two event groups.\n",
      "\n",
      "Independent T-Test Results:\n",
      "No Independent T-Test Results.\n"
     ]
    }
   ],
   "source": [
    "null_hypo_threshold = 0.01\n",
    "mannwhitneyu_results = {}\n",
    "ttest_results = {}\n",
    "for i in range(len(['issue', 'PR', 'commit', 'repo'])):\n",
    "    for j in range(i+1, len(['issue', 'PR', 'commit', 'repo'])):\n",
    "        event_group1 = ['issue', 'PR', 'commit', 'repo'][i]\n",
    "        event_group2 = ['issue', 'PR', 'commit', 'repo'][j]\n",
    "        if shapiro_results[event_group1].pvalue < null_hypo_threshold or shapiro_results[event_group2].pvalue < null_hypo_threshold:\n",
    "            mannwhitneyu_results[(event_group1, event_group2)] = mannwhitneyu(df_groupby[event_group1], df_groupby[event_group2], method='exact', nan_policy='omit')\n",
    "        else:\n",
    "            ttest_results[(event_group1, event_group2)] = ttest_ind(df_groupby[event_group1], df_groupby[event_group2], nan_policy='omit')\n",
    "print(\"Mann-Whitney U Test Results:\")\n",
    "if mannwhitneyu_results:\n",
    "    for key in mannwhitneyu_results:\n",
    "        if mannwhitneyu_results[key].pvalue < null_hypo_threshold:\n",
    "            print(f\"Null hypothesis rejected for {key}. p-value: {mannwhitneyu_results[key].pvalue}. There is a statistical difference between the two event groups.\")\n",
    "        else:\n",
    "            print(f\"Null hypothesis not rejected for {key}. p-value: {mannwhitneyu_results[key].pvalue}. There is no statistical difference between the two event groups.\")\n",
    "else:\n",
    "    print(\"No Mann-Whitney U Test Results.\")\n",
    "\n",
    "print(\"\\nIndependent T-Test Results:\")\n",
    "if ttest_results:\n",
    "    for key in ttest_results:\n",
    "        if ttest_results[key].pvalue < null_hypo_threshold:\n",
    "            print(f\"Null hypothesis rejected for {key}. p-value: {ttest_results[key].pvalue}. There is a statistical difference between the two event groups.\")\n",
    "        else:\n",
    "            print(f\"Null hypothesis not rejected for {key}. p-value: {ttest_results[key].pvalue}. There is no statistical difference between the two event groups.\")\n",
    "else:\n",
    "    print(\"No Independent T-Test Results.\")"
   ]
  },
  {
   "cell_type": "markdown",
   "id": "f443dbbc-a8f1-4281-aadb-8ec8f9c792da",
   "metadata": {},
   "source": [
    "### Question 4.3\n",
    "#### Each time you reject the null hypothesis $H_0$, quantify the effect size of the diﬀerence between the groups using cliﬀ’s delta ($\\delta$). \n",
    "#### To calculate cliﬀ’s delta, you can pass the list of values to cliﬀ delta.py file given in the repository. E.g., cliffsDelta.cliffsDelta(list of values, list of values). This will return the effect size.\n",
    "#### Refer to the table given in the TP document and mention your interpretation (negligible, small, medium, large)."
   ]
  },
  {
   "cell_type": "code",
   "execution_count": 581,
   "id": "c19a6054-933f-425b-971e-d54a429c901d",
   "metadata": {},
   "outputs": [
    {
     "name": "stdout",
     "output_type": "stream",
     "text": [
      "Cliff's Delta for ('issue', 'PR'): 0.193125\n",
      "Effect Size: Small\n",
      "Cliff's Delta for ('issue', 'commit'): 0.36375\n",
      "Effect Size: Medium\n",
      "Cliff's Delta for ('issue', 'repo'): 0.449375\n",
      "Effect Size: Medium\n",
      "Cliff's Delta for ('PR', 'commit'): 0.1875\n",
      "Effect Size: Small\n",
      "Cliff's Delta for ('PR', 'repo'): 0.224375\n",
      "Effect Size: Small\n",
      "Cliff's Delta for ('commit', 'repo'): 0.048125\n",
      "Effect Size: Negligible\n"
     ]
    }
   ],
   "source": [
    "cliffs_delta = {}\n",
    "if mannwhitneyu_results:\n",
    "    for key in mannwhitneyu_results:\n",
    "        cliffs_delta[key] = cd.cliffsDelta(df_groupby[key[0]], df_groupby[key[1]])\n",
    "if ttest_results:\n",
    "    for key in ttest_results:\n",
    "        cliffs_delta[key] = cd.cliffsDelta(df_groupby[key[0]], df_groupby[key[1]])\n",
    "for key in cliffs_delta:\n",
    "    print(f\"Cliff's Delta for {key}: {cliffs_delta[key]}\")\n",
    "    if cliffs_delta[key] < 0.147:\n",
    "        print(\"Effect Size: Negligible\")\n",
    "    elif cliffs_delta[key] < 0.33:\n",
    "        print(\"Effect Size: Small\")\n",
    "    elif cliffs_delta[key] < 0.474:\n",
    "        print(\"Effect Size: Medium\")\n",
    "    else:\n",
    "        print(\"Effect Size: Large\")"
   ]
  },
  {
   "cell_type": "code",
   "execution_count": 581,
   "id": "b317fab1-5f0e-463f-b2d4-18a2754dee48",
   "metadata": {},
   "outputs": [],
   "source": []
  },
  {
   "cell_type": "code",
   "execution_count": 581,
   "id": "114c5872-7d00-4265-9f1b-122d59771226",
   "metadata": {},
   "outputs": [],
   "source": []
  }
 ],
 "metadata": {
  "kernelspec": {
   "display_name": "Python 3 (ipykernel)",
   "language": "python",
   "name": "python3"
  },
  "language_info": {
   "codemirror_mode": {
    "name": "ipython",
    "version": 3
   },
   "file_extension": ".py",
   "mimetype": "text/x-python",
   "name": "python",
   "nbconvert_exporter": "python",
   "pygments_lexer": "ipython3",
   "version": "3.12.5"
  }
 },
 "nbformat": 4,
 "nbformat_minor": 5
}
